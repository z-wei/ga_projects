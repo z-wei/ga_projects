{
 "cells": [
  {
   "cell_type": "markdown",
   "metadata": {},
   "source": [
    "                                                    \n",
    "                                                  LOGISTICS"
   ]
  },
  {
   "cell_type": "code",
   "execution_count": 2,
   "metadata": {},
   "outputs": [],
   "source": [
    "# dictionary of variables used in this workbook\n",
    "meta_info = {'player_info':'player variable infomation',\n",
    "            'pokemon_info': 'pokemon variable information',\n",
    "            'gym locations' : 'list of gym locations',\n",
    "            'pokedex' : 'pokemon information',\n",
    "            'players' : 'players information'\n",
    "           }\n",
    "\n",
    "# dictionary to reference player variable information\n",
    "player_info = {'player_id' : 'id code unique to each player (integer)',\n",
    "'player_name' : 'entered name of the player (string)',\n",
    "'time_played' : 'number of time played the game in minutes (float)',\n",
    "'player_pokemon': 'the player\\s captured pokemon (dictionary)',\n",
    "'gyms_visited': 'ids of the gyms that a player has visited (list)'}\n",
    "\n",
    "# dictionary to reference pokemon variable information\n",
    "pokemon_info = {'pokemon_id' : 'unique identifier for each pokemon (integer)',\n",
    "'name' : 'the name of the pokemon (string)',\n",
    "'type' : 'the category of pokemon (string)',\n",
    "'hp' : 'base hitpoints (integer)',\n",
    "'attack' : 'base attack (integer)',\n",
    "'defense' : 'base defense (integer)',\n",
    "'special_attack' : 'base special attack (integer)',\n",
    "'special_defense' : 'base sepecial defense (integer)',\n",
    "'speed' : 'base speed (integer)'}"
   ]
  },
  {
   "cell_type": "markdown",
   "metadata": {},
   "source": [
    "                                                   IMPORT"
   ]
  },
  {
   "cell_type": "code",
   "execution_count": 3,
   "metadata": {},
   "outputs": [],
   "source": [
    "from pprint import pprint\n",
    "import numpy as np"
   ]
  },
  {
   "cell_type": "markdown",
   "metadata": {},
   "source": [
    "                                                    START"
   ]
  },
  {
   "cell_type": "markdown",
   "metadata": {},
   "source": [
    "---\n",
    "#### 1. Defining a player"
   ]
  },
  {
   "cell_type": "code",
   "execution_count": 4,
   "metadata": {},
   "outputs": [],
   "source": [
    "# player variables\n",
    "player_id = []\n",
    "player_name = []\n",
    "time_played = []\n",
    "player_pokemon = {}\n",
    "gyms_visited = []"
   ]
  },
  {
   "cell_type": "markdown",
   "metadata": {},
   "source": [
    "---\n",
    "#### 2. Defining \"gym\" locations"
   ]
  },
  {
   "cell_type": "code",
   "execution_count": 5,
   "metadata": {},
   "outputs": [],
   "source": [
    "# defining \"gym\" locations\n",
    "gym_locations = ['reddit.com', 'amazon.com', 'twitter.com', 'linkedin.com', \n",
    "                 'ebay.com', 'netflix.com', 'sporcle.com', 'stackoverflow.com', \n",
    "                 'github.com', 'quora.com']\n",
    "\n",
    "# append two locations player's list of visited gyms.\n",
    "gyms_visited.append(gym_locations[0:2])"
   ]
  },
  {
   "cell_type": "markdown",
   "metadata": {},
   "source": [
    "---\n",
    "#### 3.Create a pokedex"
   ]
  },
  {
   "cell_type": "code",
   "execution_count": 6,
   "metadata": {},
   "outputs": [],
   "source": [
    "# create pokedex with 3 pokemons\n",
    "pokedex =  {\n",
    "    1: {'name':'charmander', \n",
    "        'type':'fire', \n",
    "        'total': 309, \n",
    "        'hp': 39,\n",
    "        'attack': 52, \n",
    "        'defense': 43, \n",
    "        'special_attack': 60, \n",
    "        'special_defense': 50, \n",
    "        'speed': 65},\n",
    "    \n",
    "    2: {'name':'squirtle', \n",
    "        'type':'water',\n",
    "        'total': 314,\n",
    "        'hp': 44, \n",
    "        'attack': 48, \n",
    "        'defense': 65, \n",
    "        'special_attack': 50, \n",
    "        'special_defense': 64, \n",
    "        'speed': 43},\n",
    "    \n",
    "    3: {'name':'bulbasaur', \n",
    "        'type':'poison', \n",
    "        'total': 318,\n",
    "        'hp': 45, \n",
    "        'attack': 49, \n",
    "        'defense': 49, \n",
    "        'special_attack': 65, \n",
    "        'special_defense': 65, \n",
    "        'speed': 45}\n",
    "            }"
   ]
  },
  {
   "cell_type": "markdown",
   "metadata": {},
   "source": [
    "---\n",
    "#### 4. Create a data structure for players"
   ]
  },
  {
   "cell_type": "code",
   "execution_count": 7,
   "metadata": {},
   "outputs": [],
   "source": [
    "# player data structure\n",
    "players = {}\n",
    "\n",
    "players[1] = {\n",
    "            'player_name': 'player1',\n",
    "            'time_played': '8.0',\n",
    "            'player_pokemon': '',      \n",
    "            'gyms_visited': ['reddit.com', 'amazon.com'] \n",
    "             }\n",
    "\n",
    "players[2] = {\n",
    "            'player_name': 'player2',\n",
    "            'time_played': '10.0',\n",
    "            'player_pokemon': '',\n",
    "            'gyms_visited': ['alcatraz', 'pacific_beach']\n",
    "             }"
   ]
  },
  {
   "cell_type": "markdown",
   "metadata": {},
   "source": [
    "---\n",
    "#### 5. Add captured pokemon for each player."
   ]
  },
  {
   "cell_type": "code",
   "execution_count": 8,
   "metadata": {},
   "outputs": [
    {
     "data": {
      "text/plain": [
       "{1: {'name': 'charmander',\n",
       "  'type': 'fire',\n",
       "  'total': 309,\n",
       "  'hp': 39,\n",
       "  'attack': 52,\n",
       "  'defense': 43,\n",
       "  'special_attack': 60,\n",
       "  'special_defense': 50,\n",
       "  'speed': 65},\n",
       " 3: {'name': 'bulbasaur',\n",
       "  'type': 'poison',\n",
       "  'total': 318,\n",
       "  'hp': 45,\n",
       "  'attack': 49,\n",
       "  'defense': 49,\n",
       "  'special_attack': 65,\n",
       "  'special_defense': 65,\n",
       "  'speed': 45}}"
      ]
     },
     "execution_count": 8,
     "metadata": {},
     "output_type": "execute_result"
    }
   ],
   "source": [
    "# add pokemon for player 1\n",
    "players[1]['player_pokemon'] = {2:pokedex[2]}\n",
    "                             \n",
    "# add pokemon for player 2\n",
    "players[2]['player_pokemon'] = {1: pokedex[1],\n",
    "                                3: pokedex[3]}\n",
    "players[2]['player_pokemon']"
   ]
  },
  {
   "cell_type": "markdown",
   "metadata": {},
   "source": [
    "---\n",
    "#### 6. What gyms have players visited?"
   ]
  },
  {
   "cell_type": "code",
   "execution_count": 11,
   "metadata": {},
   "outputs": [
    {
     "name": "stdout",
     "output_type": "stream",
     "text": [
      "player 1 has visited: reddit.com\n",
      "player 1 has visited: amazon.com\n"
     ]
    }
   ],
   "source": [
    "for gym in gym_locations:\n",
    "    for player_id in players:\n",
    "        if gym in players[player_id]['gyms_visited']:\n",
    "            print ('player ' + str(player_id) + ' has visited: ' + gym)"
   ]
  },
  {
   "cell_type": "markdown",
   "metadata": {},
   "source": [
    "---\n",
    "#### 7. Calculate player \"power\".\n",
    "Define a function that will calculate a player's \"power\". Player power is defined as the sum of the base\n",
    "statistics all of their pokemon."
   ]
  },
  {
   "cell_type": "code",
   "execution_count": 17,
   "metadata": {},
   "outputs": [
    {
     "name": "stdout",
     "output_type": "stream",
     "text": [
      "player2 pokemon charmander agg value is: 47.5\n",
      "player2 pokemon bulbasaur agg value is: 49.0\n",
      "player2 total power is: 627\n",
      "charmander power value: 309\n",
      "bulbasaur power value: 318\n"
     ]
    },
    {
     "data": {
      "text/plain": [
       "627"
      ]
     },
     "execution_count": 17,
     "metadata": {},
     "output_type": "execute_result"
    }
   ],
   "source": [
    "def player_power(players_dictionary, pokedex_dictionary, player_id ):\n",
    "    \n",
    "    ''' returns the player's power value '''\n",
    "    \n",
    "# logistics\n",
    "\n",
    "    # access to the name of player\n",
    "    player_name = players_dictionary[player_id]['player_name']\n",
    "    # access to the player's pokemon dictionary\n",
    "    player_pokemon = players_dictionary[player_id]['player_pokemon']\n",
    "\n",
    "# (1) aggregate attack and defense values for each of the player's pokemon\n",
    "\n",
    "   # for each pokemon in list calculate aggreate attack and defense values.\n",
    "    for pokemon_id in player_pokemon:\n",
    "        print (player_name + ' pokemon ' +  player_pokemon[pokemon_id]['name'] + ' agg value is: ' + str((float(player_pokemon[pokemon_id]['attack']) + float(player_pokemon[pokemon_id]['defense'])) / 2))\n",
    "        \n",
    "        \n",
    "# (2) player's power is total base stats of their pokemon\n",
    "    \n",
    "    # loop through the player's pokemon to get their total stats\n",
    "    player_power = []\n",
    "    for pokemon_id in player_pokemon:\n",
    "        player_power.append(player_pokemon[pokemon_id]['total'])\n",
    "    \n",
    "    # sum the total and print it\n",
    "    print (player_name +' total power is: ' + str(sum(player_power)))\n",
    "\n",
    "    \n",
    "# (3) return the player's power value and print out pokemon power for each player\n",
    "    \n",
    "    # loop through each player's pokemon to get their power\n",
    "    for pokemon_id in player_pokemon:\n",
    "        print (player_pokemon[pokemon_id]['name'] + ' power value: ' + str(player_pokemon[pokemon_id]['total']))\n",
    "    \n",
    "    # return player's power\n",
    "    return sum(player_power)\n",
    "    \n",
    "player_power(players, pokedex, 2)"
   ]
  },
  {
   "cell_type": "markdown",
   "metadata": {},
   "source": [
    "---\n",
    "#### 8. Load a pokedex file containing all the pokemon"
   ]
  },
  {
   "cell_type": "code",
   "execution_count": 19,
   "metadata": {},
   "outputs": [],
   "source": [
    "# Load the file into a string \n",
    "raw_pd = ''\n",
    "pokedex_file = 'pokedex_basic.csv'\n",
    "with open(pokedex_file, 'r') as f: # open the file as f\n",
    "    raw_pd = f.read() # read the file\n",
    "f.close() # close the file "
   ]
  },
  {
   "cell_type": "markdown",
   "metadata": {},
   "source": [
    "#### SPLIT & REPLACE"
   ]
  },
  {
   "cell_type": "code",
   "execution_count": 20,
   "metadata": {},
   "outputs": [],
   "source": [
    "# splitting the whole data by line breaks \n",
    "clean1 = raw_pd.splitlines()\n",
    "\n",
    "# processing the name section\n",
    "name = clean1[0].replace('\"','')\n",
    "name_split = name.split(',')\n",
    "name = name_split\n",
    "\n",
    "# processing the data section\n",
    "data = clean1[1:]\n",
    "\n",
    "data2 = []\n",
    "for row in data:\n",
    "    data2.append(row.replace('\"',''))\n",
    "\n",
    "# splitting the data within rows by comma - i must be able to reference each cell\n",
    "data_split = []\n",
    "for row in data2:\n",
    "    data_split.append(row.split(','))\n",
    "\n",
    "data = data_split"
   ]
  },
  {
   "cell_type": "code",
   "execution_count": 22,
   "metadata": {},
   "outputs": [
    {
     "data": {
      "text/plain": [
       "'002'"
      ]
     },
     "execution_count": 22,
     "metadata": {},
     "output_type": "execute_result"
    }
   ],
   "source": [
    "data[1][0]"
   ]
  },
  {
   "cell_type": "code",
   "execution_count": 23,
   "metadata": {},
   "outputs": [],
   "source": [
    "# a function to change cells to floats\n",
    "def change_float(cell):\n",
    "    try:\n",
    "        return float(cell)\n",
    "    except (ValueError, TypeError):\n",
    "        return cell\n",
    "\n",
    "# loop through rows in data to change their cells to a float \n",
    "float_data = []\n",
    "for i in range(len(data)):\n",
    "    float_data.append([change_float(cell) for cell in data[i]])\n",
    "\n",
    "# renaming modified data to data variable\n",
    "data = float_data"
   ]
  },
  {
   "cell_type": "code",
   "execution_count": 24,
   "metadata": {},
   "outputs": [
    {
     "data": {
      "text/plain": [
       "[2.0, 'Ivysaur', 'GrassPoison', 405.0, 60.0, 62.0, 63.0, 80.0, 80.0, 60.0]"
      ]
     },
     "execution_count": 24,
     "metadata": {},
     "output_type": "execute_result"
    }
   ],
   "source": [
    "data[1]"
   ]
  },
  {
   "cell_type": "code",
   "execution_count": 27,
   "metadata": {},
   "outputs": [],
   "source": [
    "# this code checks if cells are empty or zero\n",
    "for rows in data:\n",
    "    for cell in rows:\n",
    "        if cell == '' or cell == ' ' or cell == 0:\n",
    "            print (rows)"
   ]
  },
  {
   "cell_type": "markdown",
   "metadata": {},
   "source": [
    "#### 8.2 Parse the raw pokedex with list comprehensions"
   ]
  },
  {
   "cell_type": "code",
   "execution_count": 28,
   "metadata": {},
   "outputs": [],
   "source": [
    "# (1) remove the line break and split according to it\n",
    "raw = raw_pd.splitlines()\n",
    "\n",
    "# (2) remove the double quote\n",
    "raw2 = []\n",
    "for row in raw:\n",
    "    raw2.append(row.replace('\"','')) \n",
    "raw2\n",
    "\n",
    "# (3) split each row into a list of its own\n",
    "raw3 = []\n",
    "for row in raw2:\n",
    "    raw3.append(row.split(',')) \n",
    "    \n",
    "# (4a) define a function to change cells into float\n",
    "def change_float(cell):\n",
    "    try:\n",
    "        return float(cell)\n",
    "    except (ValueError, TypeError):\n",
    "        return cell\n",
    "    \n",
    "#(4b) perform the function on the cells \n",
    "raw4 = []\n",
    "for i in range(len(raw3)):\n",
    "    raw4.append([change_float(cell) for cell in raw3[i]])\n"
   ]
  },
  {
   "cell_type": "markdown",
   "metadata": {},
   "source": [
    "#### 9. Write a function to generate the full pokedex"
   ]
  },
  {
   "cell_type": "markdown",
   "metadata": {},
   "source": [
    "Take the parsed pokedex information you created above as an argument."
   ]
  },
  {
   "cell_type": "code",
   "execution_count": 29,
   "metadata": {},
   "outputs": [],
   "source": [
    "def pokedex(d):\n",
    "    d[0] = header\n",
    "    d[1:] = body\n",
    "    \n",
    "    dic = {}\n",
    "    \n",
    "    for i in range(len(body)):\n",
    "        for row in body:\n",
    "            id = body[i]\n",
    "            dic[names] = []"
   ]
  },
  {
   "cell_type": "code",
   "execution_count": 30,
   "metadata": {},
   "outputs": [],
   "source": [
    "# I'm able to organize each column name with its respective data into a dictionary.\n",
    "data_dictionary = {}\n",
    "\n",
    "for i in range(len(name)):\n",
    "    col = name[i]\n",
    "    data_dictionary[col] = []\n",
    "    for row in data:\n",
    "        data_dictionary[col].append(row[i])"
   ]
  },
  {
   "cell_type": "markdown",
   "metadata": {},
   "source": [
    "#### 9. Descriptive statistics on the prototype pokedex"
   ]
  },
  {
   "cell_type": "code",
   "execution_count": 31,
   "metadata": {},
   "outputs": [
    {
     "data": {
      "text/plain": [
       "435.1275"
      ]
     },
     "execution_count": 31,
     "metadata": {},
     "output_type": "execute_result"
    }
   ],
   "source": [
    "# mean\n",
    "sum(data_dictionary['Total']) / len(data_dictionary['Total'])"
   ]
  },
  {
   "cell_type": "code",
   "execution_count": 32,
   "metadata": {},
   "outputs": [
    {
     "data": {
      "text/plain": [
       "119.96202000529168"
      ]
     },
     "execution_count": 32,
     "metadata": {},
     "output_type": "execute_result"
    }
   ],
   "source": [
    "# standard deviation\n",
    "np.std(data_dictionary['Total'])"
   ]
  },
  {
   "cell_type": "markdown",
   "metadata": {},
   "source": [
    "The game is no fun if the characters are wildly unbalanced! Are any characters \"overpowered\", which we'll define as having a \"Total\" more than three standard deviations from the population mean?"
   ]
  },
  {
   "cell_type": "code",
   "execution_count": 33,
   "metadata": {},
   "outputs": [
    {
     "data": {
      "text/plain": [
       "544"
      ]
     },
     "execution_count": 33,
     "metadata": {},
     "output_type": "execute_result"
    }
   ],
   "source": [
    "# About 544 characters have a total of more than 3 SD from the mean.\n",
    "std_abv_3 = []\n",
    "for cell in data_dictionary['Total']:\n",
    "     if cell / np.std(data_dictionary['Total']) > 3:\n",
    "            std_abv_3.append(cell)\n",
    "\n",
    "len(std_abv_3)\n"
   ]
  }
 ],
 "metadata": {
  "kernelspec": {
   "display_name": "Python 3",
   "language": "python",
   "name": "python3"
  },
  "language_info": {
   "codemirror_mode": {
    "name": "ipython",
    "version": 3
   },
   "file_extension": ".py",
   "mimetype": "text/x-python",
   "name": "python",
   "nbconvert_exporter": "python",
   "pygments_lexer": "ipython3",
   "version": "3.6.5"
  }
 },
 "nbformat": 4,
 "nbformat_minor": 2
}
