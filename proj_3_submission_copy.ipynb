{
 "cells": [
  {
   "cell_type": "markdown",
   "metadata": {},
   "source": [
    "<img src=\"http://imgur.com/1ZcRyrc.png\" style=\"float: left; margin: 15px; height: 80px\">\n",
    "\n",
    "# Project 3\n",
    "\n",
    "### Regression and Classification with the Ames Housing Data\n",
    "\n",
    "---\n",
    "\n",
    "You have just joined a new \"full stack\" real estate company in Ames, Iowa. The strategy of the firm is two-fold:\n",
    "- Own the entire process from the purchase of the land all the way to sale of the house, and anything in between.\n",
    "- Use statistical analysis to optimize investment and maximize return.\n",
    "\n",
    "The company is still small, and though investment is substantial the short-term goals of the company are more oriented towards purchasing existing houses and flipping them as opposed to constructing entirely new houses. That being said, the company has access to a large construction workforce operating at rock-bottom prices.\n",
    "\n",
    "This project uses the [Ames housing data recently made available on kaggle](https://www.kaggle.com/c/house-prices-advanced-regression-techniques)."
   ]
  },
  {
   "cell_type": "code",
   "execution_count": 1,
   "metadata": {},
   "outputs": [],
   "source": [
    "import numpy as np\n",
    "import scipy.stats as stats\n",
    "import seaborn as sns\n",
    "import matplotlib.pyplot as plt\n",
    "import pandas as pd\n",
    "\n",
    "sns.set_style('whitegrid')\n",
    "\n",
    "%config InlineBackend.figure_format = 'retina'\n",
    "%matplotlib inline"
   ]
  },
  {
   "cell_type": "markdown",
   "metadata": {},
   "source": [
    "<img src=\"http://imgur.com/l5NasQj.png\" style=\"float: left; margin: 25px 15px 0px 0px; height: 25px\">\n",
    "\n",
    "## 1. Estimating the value of homes from fixed characteristics.\n",
    "\n",
    "---\n",
    "\n",
    "Your superiors have outlined this year's strategy for the company:\n",
    "1. Develop an algorithm to reliably estimate the value of residential houses based on *fixed* characteristics.\n",
    "2. Identify characteristics of houses that the company can cost-effectively change/renovate with their construction team.\n",
    "3. Evaluate the mean dollar value of different renovations.\n",
    "\n",
    "Then we can use that to buy houses that are likely to sell for more than the cost of the purchase plus renovations.\n",
    "\n",
    "Your first job is to tackle #1. You have a dataset of housing sale data with a huge amount of features identifying different aspects of the house. The full description of the data features can be found in a separate file:\n",
    "\n",
    "    housing.csv\n",
    "    data_description.txt\n",
    "    \n",
    "You need to build a reliable estimator for the price of the house given characteristics of the house that cannot be renovated. Some examples include:\n",
    "- The neighborhood\n",
    "- Square feet\n",
    "- Bedrooms, bathrooms\n",
    "- Basement and garage space\n",
    "\n",
    "and many more. \n",
    "\n",
    "Some examples of things that **ARE renovate-able:**\n",
    "- Roof and exterior features\n",
    "- \"Quality\" metrics, such as kitchen quality\n",
    "- \"Condition\" metrics, such as condition of garage\n",
    "- Heating and electrical components\n",
    "\n",
    "and generally anything you deem can be modified without having to undergo major construction on the house.\n",
    "\n",
    "---\n",
    "\n",
    "**Your goals:**\n",
    "1. Perform any cleaning, feature engineering, and EDA you deem necessary.\n",
    "- Be sure to remove any houses that are not residential from the dataset.\n",
    "- Identify **fixed** features that can predict price.\n",
    "- Train a model on pre-2010 data and evaluate its performance on the 2010 houses.\n",
    "- Characterize your model. How well does it perform? What are the best estimates of price?\n",
    "\n",
    "> **Note:** The EDA and feature engineering component to this project is not trivial! Be sure to always think critically and creatively. Justify your actions! Use the data description file!"
   ]
  },
  {
   "cell_type": "raw",
   "metadata": {},
   "source": [
    "REMARKS\n",
    "1. 'fixed' meaning that these features cannot be renovated.\n",
    "2. Anything you deem can be modified without having to undergo major construction on the house is considered able to be renovated."
   ]
  },
  {
   "cell_type": "code",
   "execution_count": 2,
   "metadata": {},
   "outputs": [],
   "source": [
    "# Load the data\n",
    "house = pd.read_csv('./housing.csv')"
   ]
  },
  {
   "cell_type": "markdown",
   "metadata": {},
   "source": [
    "<title><center><u>PREPROCESSING</u><center></title>"
   ]
  },
  {
   "cell_type": "markdown",
   "metadata": {},
   "source": [
    "---\n",
    "##### << Be sure to remove any houses that are not residential from the dataset."
   ]
  },
  {
   "cell_type": "code",
   "execution_count": 3,
   "metadata": {},
   "outputs": [
    {
     "data": {
      "text/plain": [
       "(1460, 81)"
      ]
     },
     "execution_count": 3,
     "metadata": {},
     "output_type": "execute_result"
    }
   ],
   "source": [
    "house.shape"
   ]
  },
  {
   "cell_type": "code",
   "execution_count": 4,
   "metadata": {},
   "outputs": [
    {
     "data": {
      "text/plain": [
       "Index([u'Id', u'MSSubClass', u'MSZoning', u'LotFrontage', u'LotArea',\n",
       "       u'Street', u'Alley', u'LotShape', u'LandContour', u'Utilities',\n",
       "       u'LotConfig', u'LandSlope', u'Neighborhood', u'Condition1',\n",
       "       u'Condition2', u'BldgType', u'HouseStyle', u'OverallQual',\n",
       "       u'OverallCond', u'YearBuilt', u'YearRemodAdd', u'RoofStyle',\n",
       "       u'RoofMatl', u'Exterior1st', u'Exterior2nd', u'MasVnrType',\n",
       "       u'MasVnrArea', u'ExterQual', u'ExterCond', u'Foundation', u'BsmtQual',\n",
       "       u'BsmtCond', u'BsmtExposure', u'BsmtFinType1', u'BsmtFinSF1',\n",
       "       u'BsmtFinType2', u'BsmtFinSF2', u'BsmtUnfSF', u'TotalBsmtSF',\n",
       "       u'Heating', u'HeatingQC', u'CentralAir', u'Electrical', u'1stFlrSF',\n",
       "       u'2ndFlrSF', u'LowQualFinSF', u'GrLivArea', u'BsmtFullBath',\n",
       "       u'BsmtHalfBath', u'FullBath', u'HalfBath', u'BedroomAbvGr',\n",
       "       u'KitchenAbvGr', u'KitchenQual', u'TotRmsAbvGrd', u'Functional',\n",
       "       u'Fireplaces', u'FireplaceQu', u'GarageType', u'GarageYrBlt',\n",
       "       u'GarageFinish', u'GarageCars', u'GarageArea', u'GarageQual',\n",
       "       u'GarageCond', u'PavedDrive', u'WoodDeckSF', u'OpenPorchSF',\n",
       "       u'EnclosedPorch', u'3SsnPorch', u'ScreenPorch', u'PoolArea', u'PoolQC',\n",
       "       u'Fence', u'MiscFeature', u'MiscVal', u'MoSold', u'YrSold', u'SaleType',\n",
       "       u'SaleCondition', u'SalePrice'],\n",
       "      dtype='object')"
      ]
     },
     "execution_count": 4,
     "metadata": {},
     "output_type": "execute_result"
    }
   ],
   "source": [
    "house.columns"
   ]
  },
  {
   "cell_type": "markdown",
   "metadata": {},
   "source": [
    "##### MSZoning: Identifies the general zoning classification of the sale.\n",
    "\t\t\n",
    "       A\tAgriculture\n",
    "       C\tCommercial\n",
    "       FV\tFloating Village Residential\n",
    "       I\tIndustrial\n",
    "       RH\tResidential High Density\n",
    "       RL\tResidential Low Density\n",
    "       RP\tResidential Low Density Park \n",
    "       RM\tResidential Medium Density"
   ]
  },
  {
   "cell_type": "code",
   "execution_count": 5,
   "metadata": {},
   "outputs": [
    {
     "data": {
      "text/html": [
       "<div>\n",
       "<style scoped>\n",
       "    .dataframe tbody tr th:only-of-type {\n",
       "        vertical-align: middle;\n",
       "    }\n",
       "\n",
       "    .dataframe tbody tr th {\n",
       "        vertical-align: top;\n",
       "    }\n",
       "\n",
       "    .dataframe thead th {\n",
       "        text-align: right;\n",
       "    }\n",
       "</style>\n",
       "<table border=\"1\" class=\"dataframe\">\n",
       "  <thead>\n",
       "    <tr style=\"text-align: right;\">\n",
       "      <th></th>\n",
       "      <th>Id</th>\n",
       "      <th>MSSubClass</th>\n",
       "      <th>MSZoning</th>\n",
       "      <th>LotFrontage</th>\n",
       "      <th>LotArea</th>\n",
       "      <th>Street</th>\n",
       "      <th>Alley</th>\n",
       "      <th>LotShape</th>\n",
       "      <th>LandContour</th>\n",
       "      <th>Utilities</th>\n",
       "      <th>...</th>\n",
       "      <th>PoolArea</th>\n",
       "      <th>PoolQC</th>\n",
       "      <th>Fence</th>\n",
       "      <th>MiscFeature</th>\n",
       "      <th>MiscVal</th>\n",
       "      <th>MoSold</th>\n",
       "      <th>YrSold</th>\n",
       "      <th>SaleType</th>\n",
       "      <th>SaleCondition</th>\n",
       "      <th>SalePrice</th>\n",
       "    </tr>\n",
       "  </thead>\n",
       "  <tbody>\n",
       "  </tbody>\n",
       "</table>\n",
       "<p>0 rows × 81 columns</p>\n",
       "</div>"
      ],
      "text/plain": [
       "Empty DataFrame\n",
       "Columns: [Id, MSSubClass, MSZoning, LotFrontage, LotArea, Street, Alley, LotShape, LandContour, Utilities, LotConfig, LandSlope, Neighborhood, Condition1, Condition2, BldgType, HouseStyle, OverallQual, OverallCond, YearBuilt, YearRemodAdd, RoofStyle, RoofMatl, Exterior1st, Exterior2nd, MasVnrType, MasVnrArea, ExterQual, ExterCond, Foundation, BsmtQual, BsmtCond, BsmtExposure, BsmtFinType1, BsmtFinSF1, BsmtFinType2, BsmtFinSF2, BsmtUnfSF, TotalBsmtSF, Heating, HeatingQC, CentralAir, Electrical, 1stFlrSF, 2ndFlrSF, LowQualFinSF, GrLivArea, BsmtFullBath, BsmtHalfBath, FullBath, HalfBath, BedroomAbvGr, KitchenAbvGr, KitchenQual, TotRmsAbvGrd, Functional, Fireplaces, FireplaceQu, GarageType, GarageYrBlt, GarageFinish, GarageCars, GarageArea, GarageQual, GarageCond, PavedDrive, WoodDeckSF, OpenPorchSF, EnclosedPorch, 3SsnPorch, ScreenPorch, PoolArea, PoolQC, Fence, MiscFeature, MiscVal, MoSold, YrSold, SaleType, SaleCondition, SalePrice]\n",
       "Index: []\n",
       "\n",
       "[0 rows x 81 columns]"
      ]
     },
     "execution_count": 5,
     "metadata": {},
     "output_type": "execute_result"
    }
   ],
   "source": [
    "not_residential = ['A', 'C', 'I']\n",
    "house[house['MSZoning'].isin(not_residential)]\n",
    "# 'A', 'C', 'I' is already not in the dataset."
   ]
  },
  {
   "cell_type": "markdown",
   "metadata": {},
   "source": [
    "##### Section end >>\n",
    "\n",
    "---"
   ]
  },
  {
   "cell_type": "markdown",
   "metadata": {},
   "source": [
    "---\n",
    "##### << Train model on pre-2010 data and evaluate its performance on the 2010 houses.\n",
    "(Finding out what this means first)"
   ]
  },
  {
   "cell_type": "code",
   "execution_count": 6,
   "metadata": {},
   "outputs": [
    {
     "data": {
      "text/plain": [
       "array([2008, 2007, 2006, 2009, 2010])"
      ]
     },
     "execution_count": 6,
     "metadata": {},
     "output_type": "execute_result"
    }
   ],
   "source": [
    "house['YrSold'].unique()\n",
    "# data only has pre-2019"
   ]
  },
  {
   "cell_type": "raw",
   "metadata": {},
   "source": [
    "REMARKS\n",
    "1. It wants pre-2010 data as the training set and the 2010 house prices as the test set."
   ]
  },
  {
   "cell_type": "markdown",
   "metadata": {},
   "source": [
    "##### Section end >>\n",
    "\n",
    "---"
   ]
  },
  {
   "cell_type": "markdown",
   "metadata": {},
   "source": [
    "<h2><center><u>QUESTION 1<u><center></h2>"
   ]
  },
  {
   "cell_type": "markdown",
   "metadata": {},
   "source": [
    "#### WORKFLOW\n",
    "1. Identify fixed features\n",
    "2. Train data using pre-2010 data, predict on 2010 data.\n",
    "3. Evaluate"
   ]
  },
  {
   "cell_type": "markdown",
   "metadata": {},
   "source": [
    "#### I'm having an error here trying to change the values in the MSSubClass to type 'Category'."
   ]
  },
  {
   "cell_type": "raw",
   "metadata": {},
   "source": [
    "categorize_labels = lambda x: x.astype('Category')\n",
    "house.MSSubClass.apply(categorize_labels)"
   ]
  },
  {
   "cell_type": "markdown",
   "metadata": {},
   "source": [
    "#### cont"
   ]
  },
  {
   "cell_type": "code",
   "execution_count": 7,
   "metadata": {},
   "outputs": [
    {
     "name": "stdout",
     "output_type": "stream",
     "text": [
      "Index([u'Id', u'MSSubClass', u'MSZoning', u'LotFrontage', u'LotArea',\n",
      "       u'Street', u'Alley', u'LotShape', u'LandContour', u'Utilities',\n",
      "       u'LotConfig', u'LandSlope', u'Neighborhood', u'Condition1',\n",
      "       u'Condition2', u'BldgType', u'HouseStyle', u'OverallQual',\n",
      "       u'OverallCond', u'YearBuilt', u'YearRemodAdd', u'RoofStyle',\n",
      "       u'RoofMatl', u'Exterior1st', u'Exterior2nd', u'MasVnrType',\n",
      "       u'MasVnrArea', u'ExterQual', u'ExterCond', u'Foundation', u'BsmtQual',\n",
      "       u'BsmtCond', u'BsmtExposure', u'BsmtFinType1', u'BsmtFinSF1',\n",
      "       u'BsmtFinType2', u'BsmtFinSF2', u'BsmtUnfSF', u'TotalBsmtSF',\n",
      "       u'Heating', u'HeatingQC', u'CentralAir', u'Electrical', u'1stFlrSF',\n",
      "       u'2ndFlrSF', u'LowQualFinSF', u'GrLivArea', u'BsmtFullBath',\n",
      "       u'BsmtHalfBath', u'FullBath', u'HalfBath', u'BedroomAbvGr',\n",
      "       u'KitchenAbvGr', u'KitchenQual', u'TotRmsAbvGrd', u'Functional',\n",
      "       u'Fireplaces', u'FireplaceQu', u'GarageType', u'GarageYrBlt',\n",
      "       u'GarageFinish', u'GarageCars', u'GarageArea', u'GarageQual',\n",
      "       u'GarageCond', u'PavedDrive', u'WoodDeckSF', u'OpenPorchSF',\n",
      "       u'EnclosedPorch', u'3SsnPorch', u'ScreenPorch', u'PoolArea', u'PoolQC',\n",
      "       u'Fence', u'MiscFeature', u'MiscVal', u'MoSold', u'YrSold', u'SaleType',\n",
      "       u'SaleCondition', u'SalePrice'],\n",
      "      dtype='object')\n"
     ]
    }
   ],
   "source": [
    "# Selected only a few fixed_feature and non_fixed_features.\n",
    "print house.columns\n",
    "irrelevant_features = ['Id']\n",
    "\n",
    "fixed_features = ['Neighborhood', 'WoodDeckSF', 'OpenPorchSF', 'EnclosedPorch', \n",
    "                      '3SsnPorch', 'ScreenPorch', 'PoolArea', 'LotArea', 'MasVnrArea',\n",
    "                      'TotalBsmtSF', '1stFlrSF', '2ndFlrSF', 'LowQualFinSF',\n",
    "                     'GrLivArea', 'GarageArea','BsmtFullBath', 'BsmtHalfBath',\n",
    "                 'BsmtFinSF1', 'BsmtFinSF2', 'BsmtUnfSF', 'TotalBsmtSF', 'SalePrice']\n",
    "                      \n",
    "non_fixed_features = ['RoofMatl', 'Exterior1st', 'MasVnrType', 'HeatingQC', 'KitchenQual', 'Condition1', 'Condition2',\n",
    "                      'SalePrice', 'ExterQual', 'FireplaceQu', 'GarageQual', 'GarageCond', 'PoolQC', 'Fence', \n",
    "                      'OverallCond', 'BsmtCond']"
   ]
  },
  {
   "cell_type": "code",
   "execution_count": 8,
   "metadata": {},
   "outputs": [],
   "source": [
    "fixed = house[fixed_features]\n",
    "X = fixed.iloc[:,:-1]\n",
    "y = fixed.iloc[:,-1]"
   ]
  },
  {
   "cell_type": "code",
   "execution_count": 9,
   "metadata": {},
   "outputs": [
    {
     "name": "stderr",
     "output_type": "stream",
     "text": [
      "/anaconda2/lib/python2.7/site-packages/sklearn/cross_validation.py:41: DeprecationWarning: This module was deprecated in version 0.18 in favor of the model_selection module into which all the refactored classes and functions are moved. Also note that the interface of the new CV iterators are different from that of this module. This module will be removed in 0.20.\n",
      "  \"This module will be removed in 0.20.\", DeprecationWarning)\n"
     ]
    }
   ],
   "source": [
    "from sklearn.linear_model import LinearRegression\n",
    "from sklearn.model_selection import train_test_split\n",
    "from sklearn.cross_validation import cross_val_score, cross_val_predict"
   ]
  },
  {
   "cell_type": "markdown",
   "metadata": {},
   "source": [
    "<center> Q1 - CREATING DUMMY VARIABLES FOR THE COLUMNS THAT NEED IT <center>"
   ]
  },
  {
   "cell_type": "code",
   "execution_count": 10,
   "metadata": {},
   "outputs": [],
   "source": [
    "neigh_dummy = pd.get_dummies(X['Neighborhood'])\n",
    "X_concat = pd.concat([X, neigh_dummy], axis=1)\n",
    "X_concat.drop('Neighborhood', axis =1, inplace=True)"
   ]
  },
  {
   "cell_type": "markdown",
   "metadata": {},
   "source": [
    "<center> Q1 - REMOVING NULL VALUES FROM MY PREDICTORS <center>"
   ]
  },
  {
   "cell_type": "code",
   "execution_count": 11,
   "metadata": {},
   "outputs": [],
   "source": [
    "X_concat['MasVnrArea'] = pd.to_numeric(X_concat['MasVnrArea'], errors='coerce')\n",
    "#print X_concat['MasVnrArea'].isnull().sum()\n",
    "X_concat['MasVnrArea'] = X_concat['MasVnrArea'].fillna(X_concat['MasVnrArea'].mean())\n",
    "#print X_concat['MasVnrArea'].unique()\n",
    "X_concat['MasVnrArea'].astype('float')\n",
    "#print X_concat['MasVnrArea'].dtype\n",
    "y = y.astype('float')\n",
    "#y.dtype"
   ]
  },
  {
   "cell_type": "markdown",
   "metadata": {},
   "source": [
    "<center> Q1 FEATURE SELECTION K-BEST<center>"
   ]
  },
  {
   "cell_type": "code",
   "execution_count": 12,
   "metadata": {},
   "outputs": [
    {
     "data": {
      "text/html": [
       "<div>\n",
       "<style scoped>\n",
       "    .dataframe tbody tr th:only-of-type {\n",
       "        vertical-align: middle;\n",
       "    }\n",
       "\n",
       "    .dataframe tbody tr th {\n",
       "        vertical-align: top;\n",
       "    }\n",
       "\n",
       "    .dataframe thead th {\n",
       "        text-align: right;\n",
       "    }\n",
       "</style>\n",
       "<table border=\"1\" class=\"dataframe\">\n",
       "  <thead>\n",
       "    <tr style=\"text-align: right;\">\n",
       "      <th></th>\n",
       "      <th>feature</th>\n",
       "      <th>f_classif</th>\n",
       "      <th>chi2 score</th>\n",
       "    </tr>\n",
       "  </thead>\n",
       "  <tbody>\n",
       "    <tr>\n",
       "      <th>36</th>\n",
       "      <td>NridgHt</td>\n",
       "      <td>4.48329</td>\n",
       "      <td>1090.23</td>\n",
       "    </tr>\n",
       "    <tr>\n",
       "      <th>12</th>\n",
       "      <td>GrLivArea</td>\n",
       "      <td>3.43511</td>\n",
       "      <td>196850</td>\n",
       "    </tr>\n",
       "    <tr>\n",
       "      <th>35</th>\n",
       "      <td>NoRidge</td>\n",
       "      <td>3.43219</td>\n",
       "      <td>1050.51</td>\n",
       "    </tr>\n",
       "    <tr>\n",
       "      <th>6</th>\n",
       "      <td>LotArea</td>\n",
       "      <td>3.28585</td>\n",
       "      <td>1.0115e+07</td>\n",
       "    </tr>\n",
       "    <tr>\n",
       "      <th>44</th>\n",
       "      <td>Veenker</td>\n",
       "      <td>2.69042</td>\n",
       "      <td>1001.05</td>\n",
       "    </tr>\n",
       "    <tr>\n",
       "      <th>13</th>\n",
       "      <td>GarageArea</td>\n",
       "      <td>2.58334</td>\n",
       "      <td>96184.1</td>\n",
       "    </tr>\n",
       "    <tr>\n",
       "      <th>9</th>\n",
       "      <td>1stFlrSF</td>\n",
       "      <td>2.33862</td>\n",
       "      <td>123810</td>\n",
       "    </tr>\n",
       "    <tr>\n",
       "      <th>8</th>\n",
       "      <td>TotalBsmtSF</td>\n",
       "      <td>2.31529</td>\n",
       "      <td>174706</td>\n",
       "    </tr>\n",
       "    <tr>\n",
       "      <th>19</th>\n",
       "      <td>TotalBsmtSF</td>\n",
       "      <td>2.31529</td>\n",
       "      <td>174706</td>\n",
       "    </tr>\n",
       "    <tr>\n",
       "      <th>41</th>\n",
       "      <td>Somerst</td>\n",
       "      <td>2.11225</td>\n",
       "      <td>875.173</td>\n",
       "    </tr>\n",
       "    <tr>\n",
       "      <th>7</th>\n",
       "      <td>MasVnrArea</td>\n",
       "      <td>1.98779</td>\n",
       "      <td>285740</td>\n",
       "    </tr>\n",
       "    <tr>\n",
       "      <th>20</th>\n",
       "      <td>Blmngtn</td>\n",
       "      <td>1.93749</td>\n",
       "      <td>889.979</td>\n",
       "    </tr>\n",
       "    <tr>\n",
       "      <th>42</th>\n",
       "      <td>StoneBr</td>\n",
       "      <td>1.86961</td>\n",
       "      <td>872.9</td>\n",
       "    </tr>\n",
       "    <tr>\n",
       "      <th>16</th>\n",
       "      <td>BsmtFinSF1</td>\n",
       "      <td>1.69472</td>\n",
       "      <td>399985</td>\n",
       "    </tr>\n",
       "    <tr>\n",
       "      <th>43</th>\n",
       "      <td>Timber</td>\n",
       "      <td>1.67753</td>\n",
       "      <td>827.861</td>\n",
       "    </tr>\n",
       "    <tr>\n",
       "      <th>10</th>\n",
       "      <td>2ndFlrSF</td>\n",
       "      <td>1.66399</td>\n",
       "      <td>464884</td>\n",
       "    </tr>\n",
       "    <tr>\n",
       "      <th>18</th>\n",
       "      <td>BsmtUnfSF</td>\n",
       "      <td>1.45435</td>\n",
       "      <td>274751</td>\n",
       "    </tr>\n",
       "    <tr>\n",
       "      <th>25</th>\n",
       "      <td>CollgCr</td>\n",
       "      <td>1.43472</td>\n",
       "      <td>712.289</td>\n",
       "    </tr>\n",
       "    <tr>\n",
       "      <th>26</th>\n",
       "      <td>Crawfor</td>\n",
       "      <td>1.43193</td>\n",
       "      <td>765.44</td>\n",
       "    </tr>\n",
       "    <tr>\n",
       "      <th>1</th>\n",
       "      <td>OpenPorchSF</td>\n",
       "      <td>1.42328</td>\n",
       "      <td>74362.6</td>\n",
       "    </tr>\n",
       "    <tr>\n",
       "      <th>0</th>\n",
       "      <td>WoodDeckSF</td>\n",
       "      <td>1.37877</td>\n",
       "      <td>129834</td>\n",
       "    </tr>\n",
       "    <tr>\n",
       "      <th>29</th>\n",
       "      <td>IDOTRR</td>\n",
       "      <td>1.29042</td>\n",
       "      <td>736.172</td>\n",
       "    </tr>\n",
       "    <tr>\n",
       "      <th>14</th>\n",
       "      <td>BsmtFullBath</td>\n",
       "      <td>1.13557</td>\n",
       "      <td>448.324</td>\n",
       "    </tr>\n",
       "    <tr>\n",
       "      <th>28</th>\n",
       "      <td>Gilbert</td>\n",
       "      <td>1.10558</td>\n",
       "      <td>661.097</td>\n",
       "    </tr>\n",
       "    <tr>\n",
       "      <th>30</th>\n",
       "      <td>MeadowV</td>\n",
       "      <td>1.09331</td>\n",
       "      <td>686.758</td>\n",
       "    </tr>\n",
       "    <tr>\n",
       "      <th>40</th>\n",
       "      <td>SawyerW</td>\n",
       "      <td>1.03597</td>\n",
       "      <td>647.973</td>\n",
       "    </tr>\n",
       "    <tr>\n",
       "      <th>4</th>\n",
       "      <td>ScreenPorch</td>\n",
       "      <td>0.999721</td>\n",
       "      <td>136629</td>\n",
       "    </tr>\n",
       "    <tr>\n",
       "      <th>17</th>\n",
       "      <td>BsmtFinSF2</td>\n",
       "      <td>0.994003</td>\n",
       "      <td>368883</td>\n",
       "    </tr>\n",
       "    <tr>\n",
       "      <th>5</th>\n",
       "      <td>PoolArea</td>\n",
       "      <td>0.982337</td>\n",
       "      <td>383564</td>\n",
       "    </tr>\n",
       "    <tr>\n",
       "      <th>32</th>\n",
       "      <td>NAmes</td>\n",
       "      <td>0.974147</td>\n",
       "      <td>552.356</td>\n",
       "    </tr>\n",
       "    <tr>\n",
       "      <th>23</th>\n",
       "      <td>BrkSide</td>\n",
       "      <td>0.920962</td>\n",
       "      <td>607.65</td>\n",
       "    </tr>\n",
       "    <tr>\n",
       "      <th>22</th>\n",
       "      <td>BrDale</td>\n",
       "      <td>0.917797</td>\n",
       "      <td>624.633</td>\n",
       "    </tr>\n",
       "    <tr>\n",
       "      <th>37</th>\n",
       "      <td>OldTown</td>\n",
       "      <td>0.90778</td>\n",
       "      <td>579.048</td>\n",
       "    </tr>\n",
       "    <tr>\n",
       "      <th>3</th>\n",
       "      <td>3SsnPorch</td>\n",
       "      <td>0.876329</td>\n",
       "      <td>154936</td>\n",
       "    </tr>\n",
       "    <tr>\n",
       "      <th>11</th>\n",
       "      <td>LowQualFinSF</td>\n",
       "      <td>0.853784</td>\n",
       "      <td>244881</td>\n",
       "    </tr>\n",
       "    <tr>\n",
       "      <th>15</th>\n",
       "      <td>BsmtHalfBath</td>\n",
       "      <td>0.847596</td>\n",
       "      <td>597.225</td>\n",
       "    </tr>\n",
       "    <tr>\n",
       "      <th>27</th>\n",
       "      <td>Edwards</td>\n",
       "      <td>0.814167</td>\n",
       "      <td>548.67</td>\n",
       "    </tr>\n",
       "    <tr>\n",
       "      <th>2</th>\n",
       "      <td>EnclosedPorch</td>\n",
       "      <td>0.79705</td>\n",
       "      <td>98886.6</td>\n",
       "    </tr>\n",
       "    <tr>\n",
       "      <th>31</th>\n",
       "      <td>Mitchel</td>\n",
       "      <td>0.699397</td>\n",
       "      <td>518.487</td>\n",
       "    </tr>\n",
       "    <tr>\n",
       "      <th>33</th>\n",
       "      <td>NPkVill</td>\n",
       "      <td>0.655519</td>\n",
       "      <td>511.527</td>\n",
       "    </tr>\n",
       "    <tr>\n",
       "      <th>34</th>\n",
       "      <td>NWAmes</td>\n",
       "      <td>0.654421</td>\n",
       "      <td>488.435</td>\n",
       "    </tr>\n",
       "    <tr>\n",
       "      <th>24</th>\n",
       "      <td>ClearCr</td>\n",
       "      <td>0.601047</td>\n",
       "      <td>476.849</td>\n",
       "    </tr>\n",
       "    <tr>\n",
       "      <th>38</th>\n",
       "      <td>SWISU</td>\n",
       "      <td>0.572747</td>\n",
       "      <td>462.601</td>\n",
       "    </tr>\n",
       "    <tr>\n",
       "      <th>39</th>\n",
       "      <td>Sawyer</td>\n",
       "      <td>0.570105</td>\n",
       "      <td>445.406</td>\n",
       "    </tr>\n",
       "    <tr>\n",
       "      <th>21</th>\n",
       "      <td>Blueste</td>\n",
       "      <td>0.26825</td>\n",
       "      <td>265.667</td>\n",
       "    </tr>\n",
       "  </tbody>\n",
       "</table>\n",
       "</div>"
      ],
      "text/plain": [
       "          feature f_classif  chi2 score\n",
       "36        NridgHt   4.48329     1090.23\n",
       "12      GrLivArea   3.43511      196850\n",
       "35        NoRidge   3.43219     1050.51\n",
       "6         LotArea   3.28585  1.0115e+07\n",
       "44        Veenker   2.69042     1001.05\n",
       "13     GarageArea   2.58334     96184.1\n",
       "9        1stFlrSF   2.33862      123810\n",
       "8     TotalBsmtSF   2.31529      174706\n",
       "19    TotalBsmtSF   2.31529      174706\n",
       "41        Somerst   2.11225     875.173\n",
       "7      MasVnrArea   1.98779      285740\n",
       "20        Blmngtn   1.93749     889.979\n",
       "42        StoneBr   1.86961       872.9\n",
       "16     BsmtFinSF1   1.69472      399985\n",
       "43         Timber   1.67753     827.861\n",
       "10       2ndFlrSF   1.66399      464884\n",
       "18      BsmtUnfSF   1.45435      274751\n",
       "25        CollgCr   1.43472     712.289\n",
       "26        Crawfor   1.43193      765.44\n",
       "1     OpenPorchSF   1.42328     74362.6\n",
       "0      WoodDeckSF   1.37877      129834\n",
       "29         IDOTRR   1.29042     736.172\n",
       "14   BsmtFullBath   1.13557     448.324\n",
       "28        Gilbert   1.10558     661.097\n",
       "30        MeadowV   1.09331     686.758\n",
       "40        SawyerW   1.03597     647.973\n",
       "4     ScreenPorch  0.999721      136629\n",
       "17     BsmtFinSF2  0.994003      368883\n",
       "5        PoolArea  0.982337      383564\n",
       "32          NAmes  0.974147     552.356\n",
       "23        BrkSide  0.920962      607.65\n",
       "22         BrDale  0.917797     624.633\n",
       "37        OldTown   0.90778     579.048\n",
       "3       3SsnPorch  0.876329      154936\n",
       "11   LowQualFinSF  0.853784      244881\n",
       "15   BsmtHalfBath  0.847596     597.225\n",
       "27        Edwards  0.814167      548.67\n",
       "2   EnclosedPorch   0.79705     98886.6\n",
       "31        Mitchel  0.699397     518.487\n",
       "33        NPkVill  0.655519     511.527\n",
       "34         NWAmes  0.654421     488.435\n",
       "24        ClearCr  0.601047     476.849\n",
       "38          SWISU  0.572747     462.601\n",
       "39         Sawyer  0.570105     445.406\n",
       "21        Blueste   0.26825     265.667"
      ]
     },
     "execution_count": 12,
     "metadata": {},
     "output_type": "execute_result"
    }
   ],
   "source": [
    "from sklearn.feature_selection import SelectKBest, chi2, f_classif\n",
    "\n",
    "cols = list(X_concat.columns)\n",
    "\n",
    "# Build the selector — we'll build one with each score type.\n",
    "skb_f = SelectKBest(f_classif, k=10)\n",
    "skb_chi2 = SelectKBest(chi2, k=10)\n",
    "\n",
    "# Train the selector on the data.\n",
    "skb_f.fit(X_concat, y)\n",
    "skb_chi2.fit(X_concat, y)\n",
    "\n",
    "# Examine the results.\n",
    "kbest = pd.DataFrame([cols, list(skb_f.scores_), list(skb_chi2.scores_)], \n",
    "                     index=['feature','f_classif','chi2 score']).T.sort_values('f_classif', ascending=False)\n",
    "kbest"
   ]
  },
  {
   "cell_type": "code",
   "execution_count": 13,
   "metadata": {},
   "outputs": [],
   "source": [
    "bottom_5features = ['Blueste', 'Sawyer', 'SWISU', 'ClearCr', 'NWAmes']\n",
    "bottom_10features = ['Blueste', 'Sawyer', 'SWISU', 'ClearCr', 'NWAmes', 'NPkVill', 'Mitchel', 'EnclosedPorch',\n",
    "                    'Edwards', 'BsmtHalfBath']"
   ]
  },
  {
   "cell_type": "code",
   "execution_count": 14,
   "metadata": {},
   "outputs": [
    {
     "name": "stdout",
     "output_type": "stream",
     "text": [
      "(1460, 45)\n",
      "(1460, 35)\n",
      "(1460, 40)\n"
     ]
    }
   ],
   "source": [
    "X_drop5 = X_concat.drop(bottom_5features, axis=1)\n",
    "X_drop10 = X_concat.drop(bottom_10features, axis=1)\n",
    "print X_concat.shape\n",
    "print X_drop10.shape\n",
    "print X_drop5.shape"
   ]
  },
  {
   "cell_type": "markdown",
   "metadata": {},
   "source": [
    "<center> Q1 FEATURE SELECTION BY RFE(RECURSIVE FEATURE ELEMINATION <center>"
   ]
  },
  {
   "cell_type": "code",
   "execution_count": 15,
   "metadata": {},
   "outputs": [
    {
     "name": "stdout",
     "output_type": "stream",
     "text": [
      "[ True  True  True  True  True  True  True  True  True  True  True  True\n",
      "  True  True  True  True  True  True  True  True  True  True  True  True\n",
      "  True  True  True  True  True  True  True  True  True  True  True  True\n",
      "  True  True  True  True  True  True  True  True  True]\n",
      "[1 1 1 1 1 1 1 1 1 1 1 1 1 1 1 1 1 1 1 1 1 1 1 1 1 1 1 1 1 1 1 1 1 1 1 1 1\n",
      " 1 1 1 1 1 1 1 1]\n",
      "45\n"
     ]
    }
   ],
   "source": [
    "from sklearn.feature_selection import RFECV\n",
    "\n",
    "lr = LinearRegression()\n",
    "selector = RFECV(lr, step=1, cv=10)\n",
    "selector = selector.fit(X_concat, y)\n",
    "\n",
    "print selector.support_\n",
    "print selector.ranking_ \n",
    "print len(selector.ranking_)"
   ]
  },
  {
   "cell_type": "markdown",
   "metadata": {},
   "source": [
    "REMARKS:\n",
    "    \n",
    "When instantiating the RFECV:\n",
    "1. 'step' indicates what percent of features (or number of features if an integer) to remove at each iteration.\n",
    "2. 'cv' indicates the number of cross-validation folds to use for evaluating what features are important.\n",
    "\n"
   ]
  },
  {
   "cell_type": "markdown",
   "metadata": {},
   "source": [
    "<center> Q1 FEATURE SELECTION BY LASSO PENALTY <center>"
   ]
  },
  {
   "cell_type": "markdown",
   "metadata": {},
   "source": [
    "I assume the LASSO penalty is the same as the LASSO Regression which I will caryy out later on."
   ]
  },
  {
   "cell_type": "markdown",
   "metadata": {},
   "source": [
    "<center> Q1 - LINEAR MODEL WITHOUT CV <center>"
   ]
  },
  {
   "cell_type": "markdown",
   "metadata": {},
   "source": [
    "#### used all 45 features"
   ]
  },
  {
   "cell_type": "code",
   "execution_count": 16,
   "metadata": {},
   "outputs": [
    {
     "name": "stderr",
     "output_type": "stream",
     "text": [
      "/anaconda2/lib/python2.7/site-packages/sklearn/model_selection/_split.py:2026: FutureWarning: From version 0.21, test_size will always complement train_size unless both are specified.\n",
      "  FutureWarning)\n"
     ]
    }
   ],
   "source": [
    "X_train45, X_test45, y_train45, y_test45 = train_test_split(X_concat, y, train_size=0.7, random_state=88)"
   ]
  },
  {
   "cell_type": "code",
   "execution_count": 17,
   "metadata": {},
   "outputs": [
    {
     "data": {
      "text/plain": [
       "((1021, 45), (1021,))"
      ]
     },
     "execution_count": 17,
     "metadata": {},
     "output_type": "execute_result"
    }
   ],
   "source": [
    "X_train45.shape, y_train45.shape"
   ]
  },
  {
   "cell_type": "code",
   "execution_count": 18,
   "metadata": {},
   "outputs": [
    {
     "data": {
      "text/plain": [
       "((439, 45), (439,))"
      ]
     },
     "execution_count": 18,
     "metadata": {},
     "output_type": "execute_result"
    }
   ],
   "source": [
    "X_test45.shape, y_test45.shape"
   ]
  },
  {
   "cell_type": "code",
   "execution_count": 19,
   "metadata": {},
   "outputs": [
    {
     "data": {
      "text/plain": [
       "0.6278060510205139"
      ]
     },
     "execution_count": 19,
     "metadata": {},
     "output_type": "execute_result"
    }
   ],
   "source": [
    "model45 = LinearRegression()\n",
    "model45.fit(X_train45, y_train45)\n",
    "model45.score(X_test45, y_test45)"
   ]
  },
  {
   "cell_type": "markdown",
   "metadata": {},
   "source": [
    "#### used 40 features"
   ]
  },
  {
   "cell_type": "code",
   "execution_count": 20,
   "metadata": {},
   "outputs": [],
   "source": [
    "X_train, X_test, y_train, y_test = train_test_split(X_drop5, y, train_size=0.7, random_state=88)"
   ]
  },
  {
   "cell_type": "code",
   "execution_count": 21,
   "metadata": {},
   "outputs": [
    {
     "data": {
      "text/plain": [
       "((1021, 40), (1021,))"
      ]
     },
     "execution_count": 21,
     "metadata": {},
     "output_type": "execute_result"
    }
   ],
   "source": [
    "X_train.shape, y_train.shape"
   ]
  },
  {
   "cell_type": "code",
   "execution_count": 22,
   "metadata": {},
   "outputs": [
    {
     "data": {
      "text/plain": [
       "0.6297707893547342"
      ]
     },
     "execution_count": 22,
     "metadata": {},
     "output_type": "execute_result"
    }
   ],
   "source": [
    "model40 = LinearRegression()\n",
    "model40.fit(X_train, y_train)\n",
    "model40.score(X_test, y_test)"
   ]
  },
  {
   "cell_type": "markdown",
   "metadata": {},
   "source": [
    "#### used 35 features"
   ]
  },
  {
   "cell_type": "code",
   "execution_count": 23,
   "metadata": {},
   "outputs": [],
   "source": [
    "X_train, X_test, y_train, y_test = train_test_split(X_drop10, y, train_size=0.7, random_state=88)"
   ]
  },
  {
   "cell_type": "code",
   "execution_count": 24,
   "metadata": {},
   "outputs": [
    {
     "data": {
      "text/plain": [
       "((1021, 35), (1021,))"
      ]
     },
     "execution_count": 24,
     "metadata": {},
     "output_type": "execute_result"
    }
   ],
   "source": [
    "X_train.shape, y_train.shape"
   ]
  },
  {
   "cell_type": "code",
   "execution_count": 25,
   "metadata": {},
   "outputs": [
    {
     "data": {
      "text/plain": [
       "0.6253164532160111"
      ]
     },
     "execution_count": 25,
     "metadata": {},
     "output_type": "execute_result"
    }
   ],
   "source": [
    "model35 = LinearRegression()\n",
    "model35.fit(X_train, y_train)\n",
    "model35.score(X_test, y_test)"
   ]
  },
  {
   "cell_type": "markdown",
   "metadata": {},
   "source": [
    "<center> Q1 - LINEAR MODEL WITH CV <center>"
   ]
  },
  {
   "cell_type": "markdown",
   "metadata": {},
   "source": [
    "#### used all 45 features"
   ]
  },
  {
   "cell_type": "code",
   "execution_count": 26,
   "metadata": {},
   "outputs": [
    {
     "name": "stdout",
     "output_type": "stream",
     "text": [
      "[0.85267508 0.81715762 0.85584122 0.75818831 0.79318915 0.83000955\n",
      " 0.77493096 0.77493694 0.48589756 0.82256481]\n",
      "====================\n",
      "0.7765391190263479\n"
     ]
    }
   ],
   "source": [
    "from sklearn.cross_validation import cross_val_score\n",
    "# with cross validation\n",
    "lr = LinearRegression()\n",
    "lr_scores = cross_val_score(lr, X_concat, y, cv=10)\n",
    "print lr_scores\n",
    "print '='*20\n",
    "print np.mean(lr_scores)\n",
    "\n",
    "# Note that you are already scoring it against the target variable, you don't need to do anything else further.\n",
    "    # Test ridge, lasso and elastic net to see if you can get a better accruacy.\n",
    "    # Then do feature selection next first before testing these models\n",
    "    # Lasso itself is like a feature selection already  no? I can get back and see which coefficients are down to 0."
   ]
  },
  {
   "cell_type": "markdown",
   "metadata": {},
   "source": [
    "#### used 40 features"
   ]
  },
  {
   "cell_type": "code",
   "execution_count": 27,
   "metadata": {},
   "outputs": [
    {
     "name": "stdout",
     "output_type": "stream",
     "text": [
      "[0.85119429 0.8156707  0.85333799 0.75661876 0.79741649 0.83444644\n",
      " 0.77296758 0.76832878 0.48129847 0.82298841]\n",
      "====================\n",
      "0.7754267915699017\n"
     ]
    }
   ],
   "source": [
    "from sklearn.cross_validation import cross_val_score\n",
    "# with cross validation\n",
    "lr = LinearRegression()\n",
    "lr_scores = cross_val_score(lr, X_drop5, y, cv=10)\n",
    "print lr_scores\n",
    "print '='*20\n",
    "print np.mean(lr_scores)"
   ]
  },
  {
   "cell_type": "markdown",
   "metadata": {},
   "source": [
    "#### used 35 features"
   ]
  },
  {
   "cell_type": "code",
   "execution_count": 28,
   "metadata": {},
   "outputs": [
    {
     "name": "stdout",
     "output_type": "stream",
     "text": [
      "[0.85537038 0.81771412 0.84857502 0.75071678 0.80033615 0.83429664\n",
      " 0.77617481 0.77189836 0.47145316 0.82540927]\n",
      "====================\n",
      "0.7751944691790041\n"
     ]
    }
   ],
   "source": [
    "from sklearn.cross_validation import cross_val_score\n",
    "# with cross validation\n",
    "lr = LinearRegression()\n",
    "lr_scores = cross_val_score(lr, X_drop10, y, cv=10)\n",
    "print lr_scores\n",
    "print '='*20\n",
    "print np.mean(lr_scores)"
   ]
  },
  {
   "cell_type": "markdown",
   "metadata": {},
   "source": [
    "<center> Q1 - RIDGE MODEL WITH CV <center>"
   ]
  },
  {
   "cell_type": "code",
   "execution_count": 29,
   "metadata": {},
   "outputs": [
    {
     "data": {
      "text/plain": [
       "132.57113655901094"
      ]
     },
     "execution_count": 29,
     "metadata": {},
     "output_type": "execute_result"
    }
   ],
   "source": [
    "from sklearn.preprocessing import StandardScaler\n",
    "from sklearn.cross_validation import cross_val_score\n",
    "from sklearn.linear_model import Ridge, RidgeCV\n",
    "\n",
    "ss = StandardScaler()\n",
    "Xs = ss.fit_transform(X_concat)\n",
    "\n",
    "# Test the range of alphas with the number of CV in RidgeCV \n",
    "range_alpha = np.logspace(2,3,50)\n",
    "RCV = RidgeCV(alphas=range_alpha, cv=10)\n",
    "RCV.fit(Xs,y)\n",
    "optimal_ridge_alpha = RCV.alpha_\n",
    "optimal_ridge_alpha"
   ]
  },
  {
   "cell_type": "code",
   "execution_count": 30,
   "metadata": {},
   "outputs": [
    {
     "name": "stdout",
     "output_type": "stream",
     "text": [
      "[0.85514887 0.82168854 0.85670836 0.75814673 0.79268222 0.83209676\n",
      " 0.77371915 0.78225637 0.4857345  0.82757763]\n",
      "====================\n",
      "mean of ridge_score:  0.778575914261703\n"
     ]
    }
   ],
   "source": [
    "ridge = Ridge(alpha=optimal_ridge_alpha,)\n",
    "ridge_score = cross_val_score(ridge, Xs, y, cv=10)\n",
    "print ridge_score\n",
    "print '='*20\n",
    "print 'mean of ridge_score: ', np.mean(ridge_score)"
   ]
  },
  {
   "cell_type": "markdown",
   "metadata": {},
   "source": [
    "<center> Q1 - LASSO MODEL WITH CV <center>"
   ]
  },
  {
   "cell_type": "code",
   "execution_count": 31,
   "metadata": {},
   "outputs": [
    {
     "name": "stderr",
     "output_type": "stream",
     "text": [
      "...................................................................................................................................................................................................................................................................................................................................................................................................................................................................................................................................................................................................................................................................................................................................................................................................................................................................................................................................................................................................................................................................................................................................................................................................................................................................................................................................................................................................................................................................................................................................................................................................................................................................................................................................................................................................................................................................................................................................................................................................................................................................................................................................................................................................................................................................................................................................................................................................................................................................................................................................................................................................................................................................................................................................................................................................................................................................................................................................................................................................................................................................................................................................................................................................................................................................................................................................................................................................................................................................................................................................................................................................................................................................................................................................................................................................................................................................................................................................................................................................................................................................................................................................................................................................................................................................................................."
     ]
    },
    {
     "name": "stdout",
     "output_type": "stream",
     "text": [
      "152.4705678544128\n"
     ]
    },
    {
     "name": "stderr",
     "output_type": "stream",
     "text": [
      "....................................................................................................................................................................................................................................................................................................................................................................................................................................................................................................................................................................................................................................................................................................................................................................................................................................................................................................[Parallel(n_jobs=1)]: Done  10 out of  10 | elapsed:    0.8s finished\n"
     ]
    }
   ],
   "source": [
    "from sklearn.linear_model import Lasso, LassoCV\n",
    "\n",
    "alpha_range = np.logspace(-2,7,50)\n",
    "RCV = RidgeCV(alphas=alpha_range, cv=10)\n",
    "RCV.fit(Xs, y)\n",
    "RCV.alpha_\n",
    "\n",
    "optimal_lasso = LassoCV(n_alphas=500, cv=10, verbose=1)\n",
    "optimal_lasso.fit(Xs, y)\n",
    "optimal_lasso_alpha =  optimal_lasso.alpha_\n",
    "print optimal_lasso_alpha"
   ]
  },
  {
   "cell_type": "code",
   "execution_count": 32,
   "metadata": {},
   "outputs": [
    {
     "name": "stdout",
     "output_type": "stream",
     "text": [
      "[0.85337597 0.81919197 0.85739251 0.75793668 0.79269722 0.83135543\n",
      " 0.77514095 0.77496517 0.48317322 0.82319669]\n",
      "====================\n",
      "mean of lasso_score:  0.7768425811609785\n"
     ]
    }
   ],
   "source": [
    "lasso = Lasso(alpha=optimal_lasso_alpha)\n",
    "lasso_score = cross_val_score(lasso, Xs, y, cv=10)\n",
    "print lasso_score\n",
    "print '='*20\n",
    "print 'mean of lasso_score: ', np.mean(lasso_score)"
   ]
  },
  {
   "cell_type": "markdown",
   "metadata": {},
   "source": [
    "<center> Q1 - WHICH FEATURES GOT ZEROED OUT BY LASSO? <center>"
   ]
  },
  {
   "cell_type": "code",
   "execution_count": 103,
   "metadata": {},
   "outputs": [
    {
     "ename": "ValueError",
     "evalue": "arrays must all be same length",
     "output_type": "error",
     "traceback": [
      "\u001b[0;31m---------------------------------------------------------------------------\u001b[0m",
      "\u001b[0;31mValueError\u001b[0m                                Traceback (most recent call last)",
      "\u001b[0;32m<ipython-input-103-78ee9454e944>\u001b[0m in \u001b[0;36m<module>\u001b[0;34m()\u001b[0m\n\u001b[1;32m      1\u001b[0m \u001b[0mlasso\u001b[0m\u001b[0;34m.\u001b[0m\u001b[0mfit\u001b[0m\u001b[0;34m(\u001b[0m\u001b[0mXs\u001b[0m\u001b[0;34m,\u001b[0m\u001b[0my\u001b[0m\u001b[0;34m)\u001b[0m\u001b[0;34m\u001b[0m\u001b[0m\n\u001b[1;32m      2\u001b[0m lasso_coef = pd.DataFrame({'Features': X_concat.columns,\n\u001b[0;32m----> 3\u001b[0;31m                           'Coef': lasso.coef_})\n\u001b[0m\u001b[1;32m      4\u001b[0m \u001b[0;32mprint\u001b[0m \u001b[0mlass_coef\u001b[0m\u001b[0;34m\u001b[0m\u001b[0m\n\u001b[1;32m      5\u001b[0m \u001b[0mlasso_coef\u001b[0m \u001b[0;34m=\u001b[0m \u001b[0mlasso_coef\u001b[0m\u001b[0;34m[\u001b[0m\u001b[0;34m[\u001b[0m\u001b[0;34m'Features'\u001b[0m\u001b[0;34m,\u001b[0m \u001b[0;34m'Coef'\u001b[0m\u001b[0;34m]\u001b[0m\u001b[0;34m]\u001b[0m\u001b[0;34m\u001b[0m\u001b[0m\n",
      "\u001b[0;32m/anaconda2/lib/python2.7/site-packages/pandas/core/frame.pyc\u001b[0m in \u001b[0;36m__init__\u001b[0;34m(self, data, index, columns, dtype, copy)\u001b[0m\n\u001b[1;32m    328\u001b[0m                                  dtype=dtype, copy=copy)\n\u001b[1;32m    329\u001b[0m         \u001b[0;32melif\u001b[0m \u001b[0misinstance\u001b[0m\u001b[0;34m(\u001b[0m\u001b[0mdata\u001b[0m\u001b[0;34m,\u001b[0m \u001b[0mdict\u001b[0m\u001b[0;34m)\u001b[0m\u001b[0;34m:\u001b[0m\u001b[0;34m\u001b[0m\u001b[0m\n\u001b[0;32m--> 330\u001b[0;31m             \u001b[0mmgr\u001b[0m \u001b[0;34m=\u001b[0m \u001b[0mself\u001b[0m\u001b[0;34m.\u001b[0m\u001b[0m_init_dict\u001b[0m\u001b[0;34m(\u001b[0m\u001b[0mdata\u001b[0m\u001b[0;34m,\u001b[0m \u001b[0mindex\u001b[0m\u001b[0;34m,\u001b[0m \u001b[0mcolumns\u001b[0m\u001b[0;34m,\u001b[0m \u001b[0mdtype\u001b[0m\u001b[0;34m=\u001b[0m\u001b[0mdtype\u001b[0m\u001b[0;34m)\u001b[0m\u001b[0;34m\u001b[0m\u001b[0m\n\u001b[0m\u001b[1;32m    331\u001b[0m         \u001b[0;32melif\u001b[0m \u001b[0misinstance\u001b[0m\u001b[0;34m(\u001b[0m\u001b[0mdata\u001b[0m\u001b[0;34m,\u001b[0m \u001b[0mma\u001b[0m\u001b[0;34m.\u001b[0m\u001b[0mMaskedArray\u001b[0m\u001b[0;34m)\u001b[0m\u001b[0;34m:\u001b[0m\u001b[0;34m\u001b[0m\u001b[0m\n\u001b[1;32m    332\u001b[0m             \u001b[0;32mimport\u001b[0m \u001b[0mnumpy\u001b[0m\u001b[0;34m.\u001b[0m\u001b[0mma\u001b[0m\u001b[0;34m.\u001b[0m\u001b[0mmrecords\u001b[0m \u001b[0;32mas\u001b[0m \u001b[0mmrecords\u001b[0m\u001b[0;34m\u001b[0m\u001b[0m\n",
      "\u001b[0;32m/anaconda2/lib/python2.7/site-packages/pandas/core/frame.pyc\u001b[0m in \u001b[0;36m_init_dict\u001b[0;34m(self, data, index, columns, dtype)\u001b[0m\n\u001b[1;32m    459\u001b[0m             \u001b[0marrays\u001b[0m \u001b[0;34m=\u001b[0m \u001b[0;34m[\u001b[0m\u001b[0mdata\u001b[0m\u001b[0;34m[\u001b[0m\u001b[0mk\u001b[0m\u001b[0;34m]\u001b[0m \u001b[0;32mfor\u001b[0m \u001b[0mk\u001b[0m \u001b[0;32min\u001b[0m \u001b[0mkeys\u001b[0m\u001b[0;34m]\u001b[0m\u001b[0;34m\u001b[0m\u001b[0m\n\u001b[1;32m    460\u001b[0m \u001b[0;34m\u001b[0m\u001b[0m\n\u001b[0;32m--> 461\u001b[0;31m         \u001b[0;32mreturn\u001b[0m \u001b[0m_arrays_to_mgr\u001b[0m\u001b[0;34m(\u001b[0m\u001b[0marrays\u001b[0m\u001b[0;34m,\u001b[0m \u001b[0mdata_names\u001b[0m\u001b[0;34m,\u001b[0m \u001b[0mindex\u001b[0m\u001b[0;34m,\u001b[0m \u001b[0mcolumns\u001b[0m\u001b[0;34m,\u001b[0m \u001b[0mdtype\u001b[0m\u001b[0;34m=\u001b[0m\u001b[0mdtype\u001b[0m\u001b[0;34m)\u001b[0m\u001b[0;34m\u001b[0m\u001b[0m\n\u001b[0m\u001b[1;32m    462\u001b[0m \u001b[0;34m\u001b[0m\u001b[0m\n\u001b[1;32m    463\u001b[0m     \u001b[0;32mdef\u001b[0m \u001b[0m_init_ndarray\u001b[0m\u001b[0;34m(\u001b[0m\u001b[0mself\u001b[0m\u001b[0;34m,\u001b[0m \u001b[0mvalues\u001b[0m\u001b[0;34m,\u001b[0m \u001b[0mindex\u001b[0m\u001b[0;34m,\u001b[0m \u001b[0mcolumns\u001b[0m\u001b[0;34m,\u001b[0m \u001b[0mdtype\u001b[0m\u001b[0;34m=\u001b[0m\u001b[0mNone\u001b[0m\u001b[0;34m,\u001b[0m \u001b[0mcopy\u001b[0m\u001b[0;34m=\u001b[0m\u001b[0mFalse\u001b[0m\u001b[0;34m)\u001b[0m\u001b[0;34m:\u001b[0m\u001b[0;34m\u001b[0m\u001b[0m\n",
      "\u001b[0;32m/anaconda2/lib/python2.7/site-packages/pandas/core/frame.pyc\u001b[0m in \u001b[0;36m_arrays_to_mgr\u001b[0;34m(arrays, arr_names, index, columns, dtype)\u001b[0m\n\u001b[1;32m   6161\u001b[0m     \u001b[0;31m# figure out the index, if necessary\u001b[0m\u001b[0;34m\u001b[0m\u001b[0;34m\u001b[0m\u001b[0m\n\u001b[1;32m   6162\u001b[0m     \u001b[0;32mif\u001b[0m \u001b[0mindex\u001b[0m \u001b[0;32mis\u001b[0m \u001b[0mNone\u001b[0m\u001b[0;34m:\u001b[0m\u001b[0;34m\u001b[0m\u001b[0m\n\u001b[0;32m-> 6163\u001b[0;31m         \u001b[0mindex\u001b[0m \u001b[0;34m=\u001b[0m \u001b[0mextract_index\u001b[0m\u001b[0;34m(\u001b[0m\u001b[0marrays\u001b[0m\u001b[0;34m)\u001b[0m\u001b[0;34m\u001b[0m\u001b[0m\n\u001b[0m\u001b[1;32m   6164\u001b[0m     \u001b[0;32melse\u001b[0m\u001b[0;34m:\u001b[0m\u001b[0;34m\u001b[0m\u001b[0m\n\u001b[1;32m   6165\u001b[0m         \u001b[0mindex\u001b[0m \u001b[0;34m=\u001b[0m \u001b[0m_ensure_index\u001b[0m\u001b[0;34m(\u001b[0m\u001b[0mindex\u001b[0m\u001b[0;34m)\u001b[0m\u001b[0;34m\u001b[0m\u001b[0m\n",
      "\u001b[0;32m/anaconda2/lib/python2.7/site-packages/pandas/core/frame.pyc\u001b[0m in \u001b[0;36mextract_index\u001b[0;34m(data)\u001b[0m\n\u001b[1;32m   6209\u001b[0m             \u001b[0mlengths\u001b[0m \u001b[0;34m=\u001b[0m \u001b[0mlist\u001b[0m\u001b[0;34m(\u001b[0m\u001b[0mset\u001b[0m\u001b[0;34m(\u001b[0m\u001b[0mraw_lengths\u001b[0m\u001b[0;34m)\u001b[0m\u001b[0;34m)\u001b[0m\u001b[0;34m\u001b[0m\u001b[0m\n\u001b[1;32m   6210\u001b[0m             \u001b[0;32mif\u001b[0m \u001b[0mlen\u001b[0m\u001b[0;34m(\u001b[0m\u001b[0mlengths\u001b[0m\u001b[0;34m)\u001b[0m \u001b[0;34m>\u001b[0m \u001b[0;36m1\u001b[0m\u001b[0;34m:\u001b[0m\u001b[0;34m\u001b[0m\u001b[0m\n\u001b[0;32m-> 6211\u001b[0;31m                 \u001b[0;32mraise\u001b[0m \u001b[0mValueError\u001b[0m\u001b[0;34m(\u001b[0m\u001b[0;34m'arrays must all be same length'\u001b[0m\u001b[0;34m)\u001b[0m\u001b[0;34m\u001b[0m\u001b[0m\n\u001b[0m\u001b[1;32m   6212\u001b[0m \u001b[0;34m\u001b[0m\u001b[0m\n\u001b[1;32m   6213\u001b[0m             \u001b[0;32mif\u001b[0m \u001b[0mhave_dicts\u001b[0m\u001b[0;34m:\u001b[0m\u001b[0;34m\u001b[0m\u001b[0m\n",
      "\u001b[0;31mValueError\u001b[0m: arrays must all be same length"
     ]
    }
   ],
   "source": [
    "lasso.fit(Xs,y)\n",
    "lasso_coef = pd.DataFrame({'Features': X_concat.columns,\n",
    "                          'Coef': lasso.coef_})\n",
    "lasso_coef = lasso_coef[['Features', 'Coef']]\n",
    "print '='*20\n",
    "print lasso_coef[lasso_coef['Coef'] == 0]\n",
    "print '='*20\n",
    "print \"5 features got zeroed out by lasso\"\n",
    "print '='*20\n",
    "print '\\nnumber of predictor features used in total: ', len(lasso_coef)\n",
    "print '\\npercentage of features zeroed out: 5 / 45 = ', round(5/float(45),2)"
   ]
  },
  {
   "cell_type": "raw",
   "metadata": {},
   "source": [
    "REMARKS\n",
    "1. The coefficients are of course the number for each independent variable / predictor variable. Their order is maintained within lasso.coef_. What you fit on this model is (Xs, y)\n",
    "2. There shouldn't be any reason for the order to change anyway besides this was taken from ther regularization lab.\n"
   ]
  },
  {
   "cell_type": "markdown",
   "metadata": {},
   "source": [
    "<center> Q1 - ELASTIC NET MODEL WITH CV <center>"
   ]
  },
  {
   "cell_type": "code",
   "execution_count": 34,
   "metadata": {},
   "outputs": [
    {
     "name": "stdout",
     "output_type": "stream",
     "text": [
      "alpha:  185.1661793602367\n",
      "l1_ratio:  1.0\n",
      "\n",
      "====================\n",
      "\n",
      "Since the l1_ratio is 1.0 then the ElasticNet will perform just like the Lasso Regression\n"
     ]
    }
   ],
   "source": [
    "from sklearn.linear_model import ElasticNetCV, ElasticNet\n",
    "\n",
    "range_l1_ratios = np.linspace(0.01, 1, 25)\n",
    "optimal_hyper_param = ElasticNetCV(l1_ratio=range_l1_ratios, n_alphas=30, cv=10)\n",
    "optimal_hyper_param.fit(Xs,y)\n",
    "print 'alpha: ', optimal_hyper_param.alpha_\n",
    "print 'l1_ratio: ', optimal_hyper_param.l1_ratio_\n",
    "print '\\n', '='*20\n",
    "print '\\nSince the l1_ratio is 1.0 then the ElasticNet will perform just like the Lasso Regression'"
   ]
  },
  {
   "cell_type": "raw",
   "metadata": {},
   "source": [
    "REMARKS:\n",
    "1. n_alphas refers to the number of alphas used with each ratio you are testing on. \n",
    "2. Remember that the alpha is chosen intenally by the algorithm. The only thing you need to choose is the range of the l1_ratio you want to test."
   ]
  },
  {
   "cell_type": "code",
   "execution_count": 35,
   "metadata": {},
   "outputs": [
    {
     "name": "stdout",
     "output_type": "stream",
     "text": [
      "[0.85344984 0.81961169 0.85767914 0.75783499 0.79257631 0.8315766\n",
      " 0.77515122 0.77494128 0.48257558 0.82331534]\n",
      "====================\n",
      "mean of LinearReg_scores:  0.7751944691790041\n",
      "mean of enet_scores:  0.7768711988210377\n",
      "mean of ridge_score:  0.778575914261703\n",
      "mean of lasso_score:  0.7768425811609785\n"
     ]
    }
   ],
   "source": [
    "enet = ElasticNet(alpha=optimal_hyper_param.alpha_, l1_ratio=optimal_hyper_param.l1_ratio_)\n",
    "enet_scores = cross_val_score(enet, Xs, y, cv=10)\n",
    "print enet_scores\n",
    "print'='*20\n",
    "print 'mean of LinearReg_scores: ', np.mean(lr_scores)\n",
    "print 'mean of enet_scores: ' , np.mean(enet_scores)\n",
    "print 'mean of ridge_score: ', np.mean(ridge_score)\n",
    "print 'mean of lasso_score: ', np.mean(lasso_score)"
   ]
  },
  {
   "cell_type": "raw",
   "metadata": {},
   "source": [
    "REMARKS:\n",
    "1. train_test_split is an idea that we should have a holdout set to test on our data.\n",
    "2. Cross validation is a concept that optimize the train_test_split by taking multiple train_test_splits and then averaging out their results.\n",
    "3. Both ideas are intertwined."
   ]
  },
  {
   "cell_type": "markdown",
   "metadata": {},
   "source": [
    "<img src=\"http://imgur.com/l5NasQj.png\" style=\"float: left; margin: 25px 15px 0px 0px; height: 25px\">\n",
    "\n",
    "## 2. Determine any value of *changeable* property characteristics unexplained by the *fixed* ones.\n",
    "\n",
    "---\n",
    "\n",
    "Now that you have a model that estimates the price of a house based on its static characteristics, we can move forward with part 2 and 3 of the plan: what are the costs/benefits of quality, condition, and renovations?\n",
    "\n",
    "There are two specific requirements for these estimates:\n",
    "1. The estimates of effects must be in terms of dollars added or subtracted from the house value. \n",
    "2. The effects must be on the variance in price remaining from the first model.\n",
    "\n",
    "The residuals from the first model (training and testing) represent the variance in price unexplained by the fixed characteristics. Of that variance in price remaining, how much of it can be explained by the easy-to-change aspects of the property?\n",
    "\n",
    "---\n",
    "\n",
    "**Your goals:**\n",
    "1. Evaluate the effect in dollars of the renovate-able features. \n",
    "- How would your company use this second model and its coefficients to determine whether they should buy a property or not? Explain how the company can use the two models you have built to determine if they can make money. \n",
    "- Investigate how much of the variance in price remaining is explained by these features.\n",
    "- Do you trust your model? Should it be used to evaluate which properties to buy and fix up?"
   ]
  },
  {
   "cell_type": "markdown",
   "metadata": {},
   "source": [
    "#### Step 1 : Using the residuals as the target variable"
   ]
  },
  {
   "cell_type": "code",
   "execution_count": 36,
   "metadata": {},
   "outputs": [],
   "source": [
    "ridge = Ridge()\n",
    "ridge.fit(X_concat, y)\n",
    "y_ridge_predict = ridge.predict(X_test45)\n",
    "# This doesn't seem right. If I'm training my ridge on all data then my prediction is already on seen data.\n",
    "    #  I have to ask about this.\n",
    "ridge_resuduals = y_test45 - y_ridge_predict\n",
    "non_fixed_ridge_y = ridge_resuduals"
   ]
  },
  {
   "cell_type": "code",
   "execution_count": 37,
   "metadata": {},
   "outputs": [],
   "source": [
    "y_predict45 = model45.predict(X_test45)\n",
    "linear_residuals = y_test45 - y_predict45\n",
    "non_fixed_linear_y = linear_residuals"
   ]
  },
  {
   "cell_type": "markdown",
   "metadata": {},
   "source": [
    "##### Step 2: Take all non_fixed featuers and convert to dummy variables"
   ]
  },
  {
   "cell_type": "code",
   "execution_count": 38,
   "metadata": {},
   "outputs": [],
   "source": [
    "non_fixed_X = house[non_fixed_features].copy().drop('SalePrice', axis=1)\n",
    "non_fixed_X  = pd.get_dummies(non_fixed_X)"
   ]
  },
  {
   "cell_type": "markdown",
   "metadata": {},
   "source": [
    "#### I only need the index that corresponds to the X_test from question 1"
   ]
  },
  {
   "cell_type": "code",
   "execution_count": 39,
   "metadata": {},
   "outputs": [
    {
     "data": {
      "text/plain": [
       "Int64Index([1189, 1231, 327, 645, 210], dtype='int64')"
      ]
     },
     "execution_count": 39,
     "metadata": {},
     "output_type": "execute_result"
    }
   ],
   "source": [
    "X_test45.index[:5]"
   ]
  },
  {
   "cell_type": "code",
   "execution_count": 40,
   "metadata": {},
   "outputs": [
    {
     "data": {
      "text/plain": [
       "439"
      ]
     },
     "execution_count": 40,
     "metadata": {},
     "output_type": "execute_result"
    }
   ],
   "source": [
    "len(X_test45.index[:])"
   ]
  },
  {
   "cell_type": "code",
   "execution_count": 41,
   "metadata": {},
   "outputs": [],
   "source": [
    "# X_test.index\n",
    "non_fixed_X = X = non_fixed_X.iloc[X_test.index]"
   ]
  },
  {
   "cell_type": "code",
   "execution_count": 42,
   "metadata": {},
   "outputs": [
    {
     "data": {
      "text/html": [
       "<div>\n",
       "<style scoped>\n",
       "    .dataframe tbody tr th:only-of-type {\n",
       "        vertical-align: middle;\n",
       "    }\n",
       "\n",
       "    .dataframe tbody tr th {\n",
       "        vertical-align: top;\n",
       "    }\n",
       "\n",
       "    .dataframe thead th {\n",
       "        text-align: right;\n",
       "    }\n",
       "</style>\n",
       "<table border=\"1\" class=\"dataframe\">\n",
       "  <thead>\n",
       "    <tr style=\"text-align: right;\">\n",
       "      <th></th>\n",
       "      <th>OverallCond</th>\n",
       "      <th>RoofMatl_ClyTile</th>\n",
       "      <th>RoofMatl_CompShg</th>\n",
       "      <th>RoofMatl_Membran</th>\n",
       "      <th>RoofMatl_Metal</th>\n",
       "      <th>RoofMatl_Roll</th>\n",
       "      <th>RoofMatl_Tar&amp;Grv</th>\n",
       "      <th>RoofMatl_WdShake</th>\n",
       "      <th>RoofMatl_WdShngl</th>\n",
       "      <th>Exterior1st_AsbShng</th>\n",
       "      <th>...</th>\n",
       "      <th>PoolQC_Fa</th>\n",
       "      <th>PoolQC_Gd</th>\n",
       "      <th>Fence_GdPrv</th>\n",
       "      <th>Fence_GdWo</th>\n",
       "      <th>Fence_MnPrv</th>\n",
       "      <th>Fence_MnWw</th>\n",
       "      <th>BsmtCond_Fa</th>\n",
       "      <th>BsmtCond_Gd</th>\n",
       "      <th>BsmtCond_Po</th>\n",
       "      <th>BsmtCond_TA</th>\n",
       "    </tr>\n",
       "  </thead>\n",
       "  <tbody>\n",
       "    <tr>\n",
       "      <th>1189</th>\n",
       "      <td>5</td>\n",
       "      <td>0</td>\n",
       "      <td>1</td>\n",
       "      <td>0</td>\n",
       "      <td>0</td>\n",
       "      <td>0</td>\n",
       "      <td>0</td>\n",
       "      <td>0</td>\n",
       "      <td>0</td>\n",
       "      <td>0</td>\n",
       "      <td>...</td>\n",
       "      <td>0</td>\n",
       "      <td>0</td>\n",
       "      <td>0</td>\n",
       "      <td>0</td>\n",
       "      <td>0</td>\n",
       "      <td>0</td>\n",
       "      <td>0</td>\n",
       "      <td>0</td>\n",
       "      <td>0</td>\n",
       "      <td>1</td>\n",
       "    </tr>\n",
       "    <tr>\n",
       "      <th>1231</th>\n",
       "      <td>6</td>\n",
       "      <td>0</td>\n",
       "      <td>1</td>\n",
       "      <td>0</td>\n",
       "      <td>0</td>\n",
       "      <td>0</td>\n",
       "      <td>0</td>\n",
       "      <td>0</td>\n",
       "      <td>0</td>\n",
       "      <td>0</td>\n",
       "      <td>...</td>\n",
       "      <td>0</td>\n",
       "      <td>0</td>\n",
       "      <td>0</td>\n",
       "      <td>1</td>\n",
       "      <td>0</td>\n",
       "      <td>0</td>\n",
       "      <td>0</td>\n",
       "      <td>0</td>\n",
       "      <td>0</td>\n",
       "      <td>1</td>\n",
       "    </tr>\n",
       "    <tr>\n",
       "      <th>327</th>\n",
       "      <td>5</td>\n",
       "      <td>0</td>\n",
       "      <td>1</td>\n",
       "      <td>0</td>\n",
       "      <td>0</td>\n",
       "      <td>0</td>\n",
       "      <td>0</td>\n",
       "      <td>0</td>\n",
       "      <td>0</td>\n",
       "      <td>0</td>\n",
       "      <td>...</td>\n",
       "      <td>0</td>\n",
       "      <td>0</td>\n",
       "      <td>0</td>\n",
       "      <td>0</td>\n",
       "      <td>0</td>\n",
       "      <td>0</td>\n",
       "      <td>0</td>\n",
       "      <td>0</td>\n",
       "      <td>0</td>\n",
       "      <td>1</td>\n",
       "    </tr>\n",
       "    <tr>\n",
       "      <th>645</th>\n",
       "      <td>5</td>\n",
       "      <td>0</td>\n",
       "      <td>1</td>\n",
       "      <td>0</td>\n",
       "      <td>0</td>\n",
       "      <td>0</td>\n",
       "      <td>0</td>\n",
       "      <td>0</td>\n",
       "      <td>0</td>\n",
       "      <td>0</td>\n",
       "      <td>...</td>\n",
       "      <td>0</td>\n",
       "      <td>0</td>\n",
       "      <td>0</td>\n",
       "      <td>0</td>\n",
       "      <td>0</td>\n",
       "      <td>0</td>\n",
       "      <td>0</td>\n",
       "      <td>0</td>\n",
       "      <td>0</td>\n",
       "      <td>1</td>\n",
       "    </tr>\n",
       "    <tr>\n",
       "      <th>210</th>\n",
       "      <td>6</td>\n",
       "      <td>0</td>\n",
       "      <td>1</td>\n",
       "      <td>0</td>\n",
       "      <td>0</td>\n",
       "      <td>0</td>\n",
       "      <td>0</td>\n",
       "      <td>0</td>\n",
       "      <td>0</td>\n",
       "      <td>0</td>\n",
       "      <td>...</td>\n",
       "      <td>0</td>\n",
       "      <td>0</td>\n",
       "      <td>0</td>\n",
       "      <td>0</td>\n",
       "      <td>0</td>\n",
       "      <td>0</td>\n",
       "      <td>0</td>\n",
       "      <td>0</td>\n",
       "      <td>0</td>\n",
       "      <td>1</td>\n",
       "    </tr>\n",
       "  </tbody>\n",
       "</table>\n",
       "<p>5 rows × 84 columns</p>\n",
       "</div>"
      ],
      "text/plain": [
       "      OverallCond  RoofMatl_ClyTile  RoofMatl_CompShg  RoofMatl_Membran  \\\n",
       "1189            5                 0                 1                 0   \n",
       "1231            6                 0                 1                 0   \n",
       "327             5                 0                 1                 0   \n",
       "645             5                 0                 1                 0   \n",
       "210             6                 0                 1                 0   \n",
       "\n",
       "      RoofMatl_Metal  RoofMatl_Roll  RoofMatl_Tar&Grv  RoofMatl_WdShake  \\\n",
       "1189               0              0                 0                 0   \n",
       "1231               0              0                 0                 0   \n",
       "327                0              0                 0                 0   \n",
       "645                0              0                 0                 0   \n",
       "210                0              0                 0                 0   \n",
       "\n",
       "      RoofMatl_WdShngl  Exterior1st_AsbShng     ...       PoolQC_Fa  \\\n",
       "1189                 0                    0     ...               0   \n",
       "1231                 0                    0     ...               0   \n",
       "327                  0                    0     ...               0   \n",
       "645                  0                    0     ...               0   \n",
       "210                  0                    0     ...               0   \n",
       "\n",
       "      PoolQC_Gd  Fence_GdPrv  Fence_GdWo  Fence_MnPrv  Fence_MnWw  \\\n",
       "1189          0            0           0            0           0   \n",
       "1231          0            0           1            0           0   \n",
       "327           0            0           0            0           0   \n",
       "645           0            0           0            0           0   \n",
       "210           0            0           0            0           0   \n",
       "\n",
       "      BsmtCond_Fa  BsmtCond_Gd  BsmtCond_Po  BsmtCond_TA  \n",
       "1189            0            0            0            1  \n",
       "1231            0            0            0            1  \n",
       "327             0            0            0            1  \n",
       "645             0            0            0            1  \n",
       "210             0            0            0            1  \n",
       "\n",
       "[5 rows x 84 columns]"
      ]
     },
     "execution_count": 42,
     "metadata": {},
     "output_type": "execute_result"
    }
   ],
   "source": [
    "non_fixed_X.head()"
   ]
  },
  {
   "cell_type": "markdown",
   "metadata": {},
   "source": [
    "<center> Q2: TESTING THE RESIDEULS ON LINEAR, RIDGE, LASSO & ENET <center>"
   ]
  },
  {
   "cell_type": "markdown",
   "metadata": {},
   "source": [
    "#### Linear"
   ]
  },
  {
   "cell_type": "code",
   "execution_count": 43,
   "metadata": {},
   "outputs": [
    {
     "name": "stdout",
     "output_type": "stream",
     "text": [
      "mean of score :  -4.169835641267372e+23\n"
     ]
    }
   ],
   "source": [
    "lr = LinearRegression()\n",
    "lr_score = cross_val_score(lr, non_fixed_X,  non_fixed_linear_y, cv=10)\n",
    "print 'mean of score : ', np.mean(lr_score)"
   ]
  },
  {
   "cell_type": "markdown",
   "metadata": {},
   "source": [
    "#### Ridge"
   ]
  },
  {
   "cell_type": "code",
   "execution_count": 44,
   "metadata": {},
   "outputs": [
    {
     "name": "stdout",
     "output_type": "stream",
     "text": [
      "47.14866363457394\n",
      "====================\n",
      "[-0.1213242  -0.01875507  0.04888546  0.08202169 -0.05697737  0.15789197\n",
      "  0.31222055  0.09053512  0.18502632  0.1721814 ]\n",
      "====================\n",
      "mean of ridge scores:  0.08517058743888851\n"
     ]
    }
   ],
   "source": [
    "optimal_alphas = np.logspace(-2,7,50)\n",
    "RCV = RidgeCV(alphas=optimal_alphas, cv=10)\n",
    "RCV.fit(non_fixed_X, non_fixed_linear_y)\n",
    "print RCV.alpha_\n",
    "print '='*20\n",
    "\n",
    "ridge=Ridge(alpha=RCV.alpha_)\n",
    "ridge_score = cross_val_score(ridge, non_fixed_X, non_fixed_linear_y, cv=10)\n",
    "print ridge_score\n",
    "print '='*20\n",
    "print 'mean of ridge scores: ', np.mean(ridge_score)"
   ]
  },
  {
   "cell_type": "markdown",
   "metadata": {},
   "source": [
    "#### Lasso"
   ]
  },
  {
   "cell_type": "code",
   "execution_count": 45,
   "metadata": {},
   "outputs": [
    {
     "data": {
      "text/plain": [
       "363.5953796186932"
      ]
     },
     "execution_count": 45,
     "metadata": {},
     "output_type": "execute_result"
    }
   ],
   "source": [
    "LCV = LassoCV(n_alphas=500, cv=10)\n",
    "LCV.fit(non_fixed_X, non_fixed_linear_y)\n",
    "LCV.alpha_"
   ]
  },
  {
   "cell_type": "code",
   "execution_count": 46,
   "metadata": {},
   "outputs": [
    {
     "name": "stdout",
     "output_type": "stream",
     "text": [
      "[-0.12444874  0.04925458  0.07275198  0.0745331  -0.07201356  0.29955781\n",
      "  0.37275292  0.13936973  0.10842363  0.12867536]\n",
      "====================\n",
      "mean of lasso_score:  0.10488568160985276\n"
     ]
    }
   ],
   "source": [
    "lasso = Lasso(alpha=LCV.alpha_)\n",
    "lasso_score = cross_val_score(lasso, non_fixed_X, non_fixed_linear_y, cv=10)\n",
    "print lasso_score\n",
    "print '='*20\n",
    "print 'mean of lasso_score: ', np.mean(lasso_score)"
   ]
  },
  {
   "cell_type": "markdown",
   "metadata": {},
   "source": [
    "#### ENET"
   ]
  },
  {
   "cell_type": "code",
   "execution_count": 47,
   "metadata": {},
   "outputs": [
    {
     "name": "stdout",
     "output_type": "stream",
     "text": [
      "363.38999591528693\n",
      "1.0\n"
     ]
    }
   ],
   "source": [
    "l1_ratios = np.linspace(0.01,1.0,25)\n",
    "ECV = ElasticNetCV(l1_ratio=l1_ratios, n_alphas=50, cv=10)\n",
    "ECV.fit(non_fixed_X, non_fixed_linear_y)\n",
    "print ECV.alpha_\n",
    "print ECV.l1_ratio_"
   ]
  },
  {
   "cell_type": "markdown",
   "metadata": {},
   "source": [
    "CONCLUSION\n",
    "1. since fixed features can only explain abouy 77% of the sale price then the of the remaining 23% which is unexplained, 10% of it which. is 2.3% can be expalined by non_fixed_features.\n",
    "2. so the remaing 20.7% of the sale price cannot be explained by the fixed and unfixed features."
   ]
  },
  {
   "cell_type": "raw",
   "metadata": {},
   "source": [
    "REMARKS\n",
    "\n",
    "When R2<0 a horizontal line explains the data better than your model \n",
    "(REMEMBER THAT HORIZONTAL LINE IS THE BASELINE OF A LINEAR REGRESSION.)\n",
    "\n",
    "When R2=0 a horizontal line explains the data equally as well as your model.\n",
    "\n",
    "Thus in this case the baseline explaines better than out Linear Regression"
   ]
  },
  {
   "cell_type": "markdown",
   "metadata": {},
   "source": [
    "<img src=\"http://imgur.com/GCAf1UX.png\" style=\"float: left; margin: 25px 15px 0px 0px; height: 25px\">\n",
    "\n",
    "## 3. What property characteristics predict an \"abnormal\" sale?\n",
    "\n",
    "---\n",
    "\n",
    "The `SaleCondition` feature indicates the circumstances of the house sale. From the data file, we can see that the possibilities are:\n",
    "\n",
    "       Normal\tNormal Sale\n",
    "       Abnorml\tAbnormal Sale -  trade, foreclosure, short sale\n",
    "       AdjLand\tAdjoining Land Purchase\n",
    "       Alloca\tAllocation - two linked properties with separate deeds, typically condo with a garage unit\t\n",
    "       Family\tSale between family members\n",
    "       Partial\tHome was not completed when last assessed (associated with New Homes)\n",
    "       \n",
    "One of the executives at your company has an \"in\" with higher-ups at the major regional bank. His friends at the bank have made him a proposal: if he can reliably indicate what features, if any, predict \"abnormal\" sales (foreclosures, short sales, etc.), then in return the bank will give him first dibs on the pre-auction purchase of those properties (at a dirt-cheap price).\n",
    "\n",
    "He has tasked you with determining (and adequately validating) which features of a property predict this type of sale. \n",
    "\n",
    "---\n",
    "\n",
    "**Your task:**\n",
    "1. Determine which features predict the `Abnorml` category in the `SaleCondition` feature.\n",
    "- Justify your results.\n",
    "\n",
    "This is a challenging task that tests your ability to perform classification analysis in the face of severe class imbalance. You may find that simply running a classifier on the full dataset to predict the category ends up useless: when there is bad class imbalance classifiers often tend to simply guess the majority class.\n",
    "\n",
    "It is up to you to determine how you will tackle this problem. I recommend doing some research to find out how others have dealt with the problem in the past. Make sure to justify your solution. Don't worry about it being \"the best\" solution, but be rigorous.\n",
    "\n",
    "Be sure to indicate which features are predictive (if any) and whether they are positive or negative predictors of abnormal sales."
   ]
  },
  {
   "cell_type": "markdown",
   "metadata": {},
   "source": [
    "#### Create a new column, 1 for abnormal, 0 for the rest."
   ]
  },
  {
   "cell_type": "code",
   "execution_count": 48,
   "metadata": {},
   "outputs": [
    {
     "name": "stdout",
     "output_type": "stream",
     "text": [
      "(1460, 79)\n",
      "(1460, 60)\n",
      "dropped 19 columns that had more than. 80% Nans in their columns\n"
     ]
    }
   ],
   "source": [
    "df = house\n",
    "X = df.drop(columns=['Id','SalePrice'], axis=1)\n",
    "print X.shape\n",
    "# removing those ith 80%. null. \n",
    "# X[X.isnull.mean() < 0.7]\n",
    "X = X[X.columns[X.isnull().sum() < 0.8]]\n",
    "print X.shape\n",
    "print 'dropped 19 columns that had more than. 80% Nans in their columns'\n",
    "X.drop('SaleCondition', axis=1, inplace=True)"
   ]
  },
  {
   "cell_type": "code",
   "execution_count": 49,
   "metadata": {},
   "outputs": [
    {
     "name": "stderr",
     "output_type": "stream",
     "text": [
      "/anaconda2/lib/python2.7/site-packages/ipykernel_launcher.py:2: SettingWithCopyWarning: \n",
      "A value is trying to be set on a copy of a slice from a DataFrame.\n",
      "Try using .loc[row_indexer,col_indexer] = value instead\n",
      "\n",
      "See the caveats in the documentation: http://pandas.pydata.org/pandas-docs/stable/indexing.html#indexing-view-versus-copy\n",
      "  \n"
     ]
    }
   ],
   "source": [
    "y = df[['SaleCondition']]\n",
    "y['SaleCondition'] = y['SaleCondition'].apply(lambda x: 1 if x == 'Abnorml' else 0)"
   ]
  },
  {
   "cell_type": "code",
   "execution_count": 50,
   "metadata": {},
   "outputs": [
    {
     "name": "stdout",
     "output_type": "stream",
     "text": [
      "37\n"
     ]
    }
   ],
   "source": [
    "req_dummy = ['MSZoning', 'Street', 'LotShape', 'LandContour', 'Utilities', 'LotConfig', 'LandSlope', 'Neighborhood',\n",
    "            'Condition1', 'Condition2', 'BldgType', 'HouseStyle', 'OverallQual', 'OverallCond', 'RoofStyle'\n",
    "            ,'RoofMatl', 'Exterior1st', 'Exterior2nd', 'ExterQual', 'ExterCond', 'Foundation', 'Heating',\n",
    "            'HeatingQC', 'CentralAir', 'BsmtFullBath', 'BsmtHalfBath', 'FullBath', 'HalfBath', 'BedroomAbvGr',\n",
    "            'KitchenAbvGr', 'KitchenQual', 'TotRmsAbvGrd', 'Functional', 'Fireplaces', 'GarageCars', 'PavedDrive',\n",
    "            'SaleType']\n",
    "print len(req_dummy)"
   ]
  },
  {
   "cell_type": "code",
   "execution_count": 51,
   "metadata": {},
   "outputs": [
    {
     "data": {
      "text/plain": [
       "(1460, 187)"
      ]
     },
     "execution_count": 51,
     "metadata": {},
     "output_type": "execute_result"
    }
   ],
   "source": [
    "dummy_cols =  pd.get_dummies(X[req_dummy])\n",
    "dummy_cols.shape"
   ]
  },
  {
   "cell_type": "code",
   "execution_count": 52,
   "metadata": {},
   "outputs": [],
   "source": [
    "X.drop(columns=req_dummy, axis=1, inplace=True)"
   ]
  },
  {
   "cell_type": "code",
   "execution_count": 53,
   "metadata": {},
   "outputs": [
    {
     "data": {
      "text/plain": [
       "(1460, 22)"
      ]
     },
     "execution_count": 53,
     "metadata": {},
     "output_type": "execute_result"
    }
   ],
   "source": [
    "X.shape"
   ]
  },
  {
   "cell_type": "code",
   "execution_count": 54,
   "metadata": {},
   "outputs": [],
   "source": [
    "X = pd.concat([X, dummy_cols], axis=1)"
   ]
  },
  {
   "cell_type": "code",
   "execution_count": 55,
   "metadata": {},
   "outputs": [
    {
     "data": {
      "text/plain": [
       "(1460, 209)"
      ]
     },
     "execution_count": 55,
     "metadata": {},
     "output_type": "execute_result"
    }
   ],
   "source": [
    "X.shape"
   ]
  },
  {
   "cell_type": "code",
   "execution_count": 56,
   "metadata": {},
   "outputs": [
    {
     "data": {
      "text/plain": [
       "MSSubClass         int64\n",
       "LotArea            int64\n",
       "YearBuilt          int64\n",
       "YearRemodAdd       int64\n",
       "BsmtFinSF1         int64\n",
       "BsmtFinSF2         int64\n",
       "BsmtUnfSF          int64\n",
       "TotalBsmtSF        int64\n",
       "1stFlrSF           int64\n",
       "2ndFlrSF           int64\n",
       "LowQualFinSF       int64\n",
       "GrLivArea          int64\n",
       "GarageArea         int64\n",
       "WoodDeckSF         int64\n",
       "OpenPorchSF        int64\n",
       "EnclosedPorch      int64\n",
       "3SsnPorch          int64\n",
       "ScreenPorch        int64\n",
       "PoolArea           int64\n",
       "MiscVal            int64\n",
       "MoSold             int64\n",
       "YrSold             int64\n",
       "OverallQual        int64\n",
       "OverallCond        int64\n",
       "BsmtFullBath       int64\n",
       "BsmtHalfBath       int64\n",
       "FullBath           int64\n",
       "HalfBath           int64\n",
       "BedroomAbvGr       int64\n",
       "KitchenAbvGr       int64\n",
       "                   ...  \n",
       "HeatingQC_Ex       uint8\n",
       "HeatingQC_Fa       uint8\n",
       "HeatingQC_Gd       uint8\n",
       "HeatingQC_Po       uint8\n",
       "HeatingQC_TA       uint8\n",
       "CentralAir_N       uint8\n",
       "CentralAir_Y       uint8\n",
       "KitchenQual_Ex     uint8\n",
       "KitchenQual_Fa     uint8\n",
       "KitchenQual_Gd     uint8\n",
       "KitchenQual_TA     uint8\n",
       "Functional_Maj1    uint8\n",
       "Functional_Maj2    uint8\n",
       "Functional_Min1    uint8\n",
       "Functional_Min2    uint8\n",
       "Functional_Mod     uint8\n",
       "Functional_Sev     uint8\n",
       "Functional_Typ     uint8\n",
       "PavedDrive_N       uint8\n",
       "PavedDrive_P       uint8\n",
       "PavedDrive_Y       uint8\n",
       "SaleType_COD       uint8\n",
       "SaleType_CWD       uint8\n",
       "SaleType_Con       uint8\n",
       "SaleType_ConLD     uint8\n",
       "SaleType_ConLI     uint8\n",
       "SaleType_ConLw     uint8\n",
       "SaleType_New       uint8\n",
       "SaleType_Oth       uint8\n",
       "SaleType_WD        uint8\n",
       "Length: 209, dtype: object"
      ]
     },
     "execution_count": 56,
     "metadata": {},
     "output_type": "execute_result"
    }
   ],
   "source": [
    "X.dtypes"
   ]
  },
  {
   "cell_type": "code",
   "execution_count": 57,
   "metadata": {},
   "outputs": [
    {
     "data": {
      "text/plain": [
       "Index([], dtype='object')"
      ]
     },
     "execution_count": 57,
     "metadata": {},
     "output_type": "execute_result"
    }
   ],
   "source": [
    "X.columns[X.dtypes == 'object']"
   ]
  },
  {
   "cell_type": "code",
   "execution_count": 58,
   "metadata": {},
   "outputs": [
    {
     "data": {
      "text/plain": [
       "(1460, 1)"
      ]
     },
     "execution_count": 58,
     "metadata": {},
     "output_type": "execute_result"
    }
   ],
   "source": [
    "y.shape"
   ]
  },
  {
   "cell_type": "markdown",
   "metadata": {},
   "source": [
    "<center> Q3 - FEATURE SELECTION USING KBEST <center>"
   ]
  },
  {
   "cell_type": "code",
   "execution_count": 59,
   "metadata": {},
   "outputs": [
    {
     "name": "stderr",
     "output_type": "stream",
     "text": [
      "/anaconda2/lib/python2.7/site-packages/sklearn/utils/validation.py:578: DataConversionWarning: A column-vector y was passed when a 1d array was expected. Please change the shape of y to (n_samples, ), for example using ravel().\n",
      "  y = column_or_1d(y, warn=True)\n"
     ]
    },
    {
     "data": {
      "text/html": [
       "<div>\n",
       "<style scoped>\n",
       "    .dataframe tbody tr th:only-of-type {\n",
       "        vertical-align: middle;\n",
       "    }\n",
       "\n",
       "    .dataframe tbody tr th {\n",
       "        vertical-align: top;\n",
       "    }\n",
       "\n",
       "    .dataframe thead th {\n",
       "        text-align: right;\n",
       "    }\n",
       "</style>\n",
       "<table border=\"1\" class=\"dataframe\">\n",
       "  <thead>\n",
       "    <tr style=\"text-align: right;\">\n",
       "      <th></th>\n",
       "      <th>feature</th>\n",
       "      <th>f_classif</th>\n",
       "      <th>chi2 score</th>\n",
       "    </tr>\n",
       "  </thead>\n",
       "  <tbody>\n",
       "    <tr>\n",
       "      <th>200</th>\n",
       "      <td>SaleType_COD</td>\n",
       "      <td>185.134</td>\n",
       "      <td>159.655</td>\n",
       "    </tr>\n",
       "    <tr>\n",
       "      <th>207</th>\n",
       "      <td>SaleType_Oth</td>\n",
       "      <td>41.5451</td>\n",
       "      <td>40.3663</td>\n",
       "    </tr>\n",
       "    <tr>\n",
       "      <th>33</th>\n",
       "      <td>MSZoning_C (all)</td>\n",
       "      <td>29.5713</td>\n",
       "      <td>28.8244</td>\n",
       "    </tr>\n",
       "    <tr>\n",
       "      <th>208</th>\n",
       "      <td>SaleType_WD</td>\n",
       "      <td>29.423</td>\n",
       "      <td>3.81777</td>\n",
       "    </tr>\n",
       "    <tr>\n",
       "      <th>3</th>\n",
       "      <td>YearRemodAdd</td>\n",
       "      <td>27.4516</td>\n",
       "      <td>5.79003</td>\n",
       "    </tr>\n",
       "    <tr>\n",
       "      <th>137</th>\n",
       "      <td>Exterior1st_Stone</td>\n",
       "      <td>27.4169</td>\n",
       "      <td>26.9109</td>\n",
       "    </tr>\n",
       "    <tr>\n",
       "      <th>2</th>\n",
       "      <td>YearBuilt</td>\n",
       "      <td>17.9344</td>\n",
       "      <td>8.20402</td>\n",
       "    </tr>\n",
       "    <tr>\n",
       "      <th>32</th>\n",
       "      <td>GarageCars</td>\n",
       "      <td>17.8986</td>\n",
       "      <td>5.5919</td>\n",
       "    </tr>\n",
       "    <tr>\n",
       "      <th>22</th>\n",
       "      <td>OverallQual</td>\n",
       "      <td>15.7983</td>\n",
       "      <td>4.90442</td>\n",
       "    </tr>\n",
       "    <tr>\n",
       "      <th>35</th>\n",
       "      <td>MSZoning_RH</td>\n",
       "      <td>15.0067</td>\n",
       "      <td>14.7112</td>\n",
       "    </tr>\n",
       "    <tr>\n",
       "      <th>12</th>\n",
       "      <td>GarageArea</td>\n",
       "      <td>13.8018</td>\n",
       "      <td>1322.31</td>\n",
       "    </tr>\n",
       "    <tr>\n",
       "      <th>195</th>\n",
       "      <td>Functional_Sev</td>\n",
       "      <td>13.5714</td>\n",
       "      <td>13.4554</td>\n",
       "    </tr>\n",
       "    <tr>\n",
       "      <th>49</th>\n",
       "      <td>Utilities_NoSeWa</td>\n",
       "      <td>13.5714</td>\n",
       "      <td>13.4554</td>\n",
       "    </tr>\n",
       "    <tr>\n",
       "      <th>48</th>\n",
       "      <td>Utilities_AllPub</td>\n",
       "      <td>13.5714</td>\n",
       "      <td>0.00922238</td>\n",
       "    </tr>\n",
       "    <tr>\n",
       "      <th>26</th>\n",
       "      <td>FullBath</td>\n",
       "      <td>12.8512</td>\n",
       "      <td>2.47211</td>\n",
       "    </tr>\n",
       "    <tr>\n",
       "      <th>169</th>\n",
       "      <td>Foundation_PConc</td>\n",
       "      <td>12.1899</td>\n",
       "      <td>6.74088</td>\n",
       "    </tr>\n",
       "    <tr>\n",
       "      <th>31</th>\n",
       "      <td>Fireplaces</td>\n",
       "      <td>11.274</td>\n",
       "      <td>7.58983</td>\n",
       "    </tr>\n",
       "    <tr>\n",
       "      <th>183</th>\n",
       "      <td>HeatingQC_TA</td>\n",
       "      <td>10.6955</td>\n",
       "      <td>7.51537</td>\n",
       "    </tr>\n",
       "    <tr>\n",
       "      <th>161</th>\n",
       "      <td>ExterQual_TA</td>\n",
       "      <td>10.6717</td>\n",
       "      <td>4.02549</td>\n",
       "    </tr>\n",
       "    <tr>\n",
       "      <th>206</th>\n",
       "      <td>SaleType_New</td>\n",
       "      <td>9.94755</td>\n",
       "      <td>9.06696</td>\n",
       "    </tr>\n",
       "    <tr>\n",
       "      <th>15</th>\n",
       "      <td>EnclosedPorch</td>\n",
       "      <td>9.89659</td>\n",
       "      <td>1673.73</td>\n",
       "    </tr>\n",
       "    <tr>\n",
       "      <th>168</th>\n",
       "      <td>Foundation_CBlock</td>\n",
       "      <td>8.69766</td>\n",
       "      <td>4.89826</td>\n",
       "    </tr>\n",
       "    <tr>\n",
       "      <th>67</th>\n",
       "      <td>Neighborhood_IDOTRR</td>\n",
       "      <td>8.52894</td>\n",
       "      <td>8.27579</td>\n",
       "    </tr>\n",
       "    <tr>\n",
       "      <th>160</th>\n",
       "      <td>ExterQual_Gd</td>\n",
       "      <td>7.81239</td>\n",
       "      <td>5.1805</td>\n",
       "    </tr>\n",
       "    <tr>\n",
       "      <th>10</th>\n",
       "      <td>LowQualFinSF</td>\n",
       "      <td>7.41188</td>\n",
       "      <td>2985.11</td>\n",
       "    </tr>\n",
       "    <tr>\n",
       "      <th>179</th>\n",
       "      <td>HeatingQC_Ex</td>\n",
       "      <td>6.41699</td>\n",
       "      <td>3.15062</td>\n",
       "    </tr>\n",
       "    <tr>\n",
       "      <th>189</th>\n",
       "      <td>KitchenQual_TA</td>\n",
       "      <td>6.30401</td>\n",
       "      <td>3.12122</td>\n",
       "    </tr>\n",
       "    <tr>\n",
       "      <th>63</th>\n",
       "      <td>Neighborhood_CollgCr</td>\n",
       "      <td>6.29734</td>\n",
       "      <td>5.63377</td>\n",
       "    </tr>\n",
       "    <tr>\n",
       "      <th>74</th>\n",
       "      <td>Neighborhood_NridgHt</td>\n",
       "      <td>6.05799</td>\n",
       "      <td>5.72259</td>\n",
       "    </tr>\n",
       "    <tr>\n",
       "      <th>36</th>\n",
       "      <td>MSZoning_RL</td>\n",
       "      <td>5.92049</td>\n",
       "      <td>1.24968</td>\n",
       "    </tr>\n",
       "    <tr>\n",
       "      <th>...</th>\n",
       "      <td>...</td>\n",
       "      <td>...</td>\n",
       "      <td>...</td>\n",
       "    </tr>\n",
       "    <tr>\n",
       "      <th>134</th>\n",
       "      <td>Exterior1st_ImStucc</td>\n",
       "      <td>0.0742722</td>\n",
       "      <td>0.0743194</td>\n",
       "    </tr>\n",
       "    <tr>\n",
       "      <th>123</th>\n",
       "      <td>RoofMatl_Roll</td>\n",
       "      <td>0.0742722</td>\n",
       "      <td>0.0743194</td>\n",
       "    </tr>\n",
       "    <tr>\n",
       "      <th>165</th>\n",
       "      <td>ExterCond_Po</td>\n",
       "      <td>0.0742722</td>\n",
       "      <td>0.0743194</td>\n",
       "    </tr>\n",
       "    <tr>\n",
       "      <th>119</th>\n",
       "      <td>RoofMatl_ClyTile</td>\n",
       "      <td>0.0742722</td>\n",
       "      <td>0.0743194</td>\n",
       "    </tr>\n",
       "    <tr>\n",
       "      <th>95</th>\n",
       "      <td>Condition2_PosA</td>\n",
       "      <td>0.0742722</td>\n",
       "      <td>0.0743194</td>\n",
       "    </tr>\n",
       "    <tr>\n",
       "      <th>121</th>\n",
       "      <td>RoofMatl_Membran</td>\n",
       "      <td>0.0742722</td>\n",
       "      <td>0.0743194</td>\n",
       "    </tr>\n",
       "    <tr>\n",
       "      <th>173</th>\n",
       "      <td>Heating_Floor</td>\n",
       "      <td>0.0742722</td>\n",
       "      <td>0.0743194</td>\n",
       "    </tr>\n",
       "    <tr>\n",
       "      <th>151</th>\n",
       "      <td>Exterior2nd_Other</td>\n",
       "      <td>0.0742722</td>\n",
       "      <td>0.0743194</td>\n",
       "    </tr>\n",
       "    <tr>\n",
       "      <th>122</th>\n",
       "      <td>RoofMatl_Metal</td>\n",
       "      <td>0.0742722</td>\n",
       "      <td>0.0743194</td>\n",
       "    </tr>\n",
       "    <tr>\n",
       "      <th>98</th>\n",
       "      <td>Condition2_RRAn</td>\n",
       "      <td>0.0742722</td>\n",
       "      <td>0.0743194</td>\n",
       "    </tr>\n",
       "    <tr>\n",
       "      <th>56</th>\n",
       "      <td>LandSlope_Mod</td>\n",
       "      <td>0.0632882</td>\n",
       "      <td>0.0605509</td>\n",
       "    </tr>\n",
       "    <tr>\n",
       "      <th>34</th>\n",
       "      <td>MSZoning_FV</td>\n",
       "      <td>0.0615777</td>\n",
       "      <td>0.0589144</td>\n",
       "    </tr>\n",
       "    <tr>\n",
       "      <th>193</th>\n",
       "      <td>Functional_Min2</td>\n",
       "      <td>0.0578844</td>\n",
       "      <td>0.0566117</td>\n",
       "    </tr>\n",
       "    <tr>\n",
       "      <th>81</th>\n",
       "      <td>Neighborhood_Timber</td>\n",
       "      <td>0.0577496</td>\n",
       "      <td>0.0563215</td>\n",
       "    </tr>\n",
       "    <tr>\n",
       "      <th>47</th>\n",
       "      <td>LandContour_Lvl</td>\n",
       "      <td>0.0555836</td>\n",
       "      <td>0.00568014</td>\n",
       "    </tr>\n",
       "    <tr>\n",
       "      <th>69</th>\n",
       "      <td>Neighborhood_Mitchel</td>\n",
       "      <td>0.0497431</td>\n",
       "      <td>0.048138</td>\n",
       "    </tr>\n",
       "    <tr>\n",
       "      <th>51</th>\n",
       "      <td>LotConfig_CulDSac</td>\n",
       "      <td>0.0445701</td>\n",
       "      <td>0.0417564</td>\n",
       "    </tr>\n",
       "    <tr>\n",
       "      <th>0</th>\n",
       "      <td>MSSubClass</td>\n",
       "      <td>0.0364928</td>\n",
       "      <td>1.1484</td>\n",
       "    </tr>\n",
       "    <tr>\n",
       "      <th>16</th>\n",
       "      <td>3SsnPorch</td>\n",
       "      <td>0.0329689</td>\n",
       "      <td>8.31648</td>\n",
       "    </tr>\n",
       "    <tr>\n",
       "      <th>84</th>\n",
       "      <td>Condition1_Feedr</td>\n",
       "      <td>0.0318812</td>\n",
       "      <td>0.0301531</td>\n",
       "    </tr>\n",
       "    <tr>\n",
       "      <th>68</th>\n",
       "      <td>Neighborhood_MeadowV</td>\n",
       "      <td>0.0286007</td>\n",
       "      <td>0.0283059</td>\n",
       "    </tr>\n",
       "    <tr>\n",
       "      <th>100</th>\n",
       "      <td>BldgType_1Fam</td>\n",
       "      <td>0.0280944</td>\n",
       "      <td>0.0046245</td>\n",
       "    </tr>\n",
       "    <tr>\n",
       "      <th>154</th>\n",
       "      <td>Exterior2nd_Stucco</td>\n",
       "      <td>0.0246261</td>\n",
       "      <td>0.0242204</td>\n",
       "    </tr>\n",
       "    <tr>\n",
       "      <th>141</th>\n",
       "      <td>Exterior1st_WdShing</td>\n",
       "      <td>0.0246261</td>\n",
       "      <td>0.0242204</td>\n",
       "    </tr>\n",
       "    <tr>\n",
       "      <th>101</th>\n",
       "      <td>BldgType_2fmCon</td>\n",
       "      <td>0.0106756</td>\n",
       "      <td>0.0104631</td>\n",
       "    </tr>\n",
       "    <tr>\n",
       "      <th>133</th>\n",
       "      <td>Exterior1st_HdBoard</td>\n",
       "      <td>0.0105314</td>\n",
       "      <td>0.00894226</td>\n",
       "    </tr>\n",
       "    <tr>\n",
       "      <th>77</th>\n",
       "      <td>Neighborhood_Sawyer</td>\n",
       "      <td>0.0031356</td>\n",
       "      <td>0.00298075</td>\n",
       "    </tr>\n",
       "    <tr>\n",
       "      <th>78</th>\n",
       "      <td>Neighborhood_SawyerW</td>\n",
       "      <td>0.00181979</td>\n",
       "      <td>0.00174864</td>\n",
       "    </tr>\n",
       "    <tr>\n",
       "      <th>194</th>\n",
       "      <td>Functional_Mod</td>\n",
       "      <td>0.00148246</td>\n",
       "      <td>0.00146924</td>\n",
       "    </tr>\n",
       "    <tr>\n",
       "      <th>186</th>\n",
       "      <td>KitchenQual_Ex</td>\n",
       "      <td>0.00112471</td>\n",
       "      <td>0.00104911</td>\n",
       "    </tr>\n",
       "  </tbody>\n",
       "</table>\n",
       "<p>209 rows × 3 columns</p>\n",
       "</div>"
      ],
      "text/plain": [
       "                  feature   f_classif  chi2 score\n",
       "200          SaleType_COD     185.134     159.655\n",
       "207          SaleType_Oth     41.5451     40.3663\n",
       "33       MSZoning_C (all)     29.5713     28.8244\n",
       "208           SaleType_WD      29.423     3.81777\n",
       "3            YearRemodAdd     27.4516     5.79003\n",
       "137     Exterior1st_Stone     27.4169     26.9109\n",
       "2               YearBuilt     17.9344     8.20402\n",
       "32             GarageCars     17.8986      5.5919\n",
       "22            OverallQual     15.7983     4.90442\n",
       "35            MSZoning_RH     15.0067     14.7112\n",
       "12             GarageArea     13.8018     1322.31\n",
       "195        Functional_Sev     13.5714     13.4554\n",
       "49       Utilities_NoSeWa     13.5714     13.4554\n",
       "48       Utilities_AllPub     13.5714  0.00922238\n",
       "26               FullBath     12.8512     2.47211\n",
       "169      Foundation_PConc     12.1899     6.74088\n",
       "31             Fireplaces      11.274     7.58983\n",
       "183          HeatingQC_TA     10.6955     7.51537\n",
       "161          ExterQual_TA     10.6717     4.02549\n",
       "206          SaleType_New     9.94755     9.06696\n",
       "15          EnclosedPorch     9.89659     1673.73\n",
       "168     Foundation_CBlock     8.69766     4.89826\n",
       "67    Neighborhood_IDOTRR     8.52894     8.27579\n",
       "160          ExterQual_Gd     7.81239      5.1805\n",
       "10           LowQualFinSF     7.41188     2985.11\n",
       "179          HeatingQC_Ex     6.41699     3.15062\n",
       "189        KitchenQual_TA     6.30401     3.12122\n",
       "63   Neighborhood_CollgCr     6.29734     5.63377\n",
       "74   Neighborhood_NridgHt     6.05799     5.72259\n",
       "36            MSZoning_RL     5.92049     1.24968\n",
       "..                    ...         ...         ...\n",
       "134   Exterior1st_ImStucc   0.0742722   0.0743194\n",
       "123         RoofMatl_Roll   0.0742722   0.0743194\n",
       "165          ExterCond_Po   0.0742722   0.0743194\n",
       "119      RoofMatl_ClyTile   0.0742722   0.0743194\n",
       "95        Condition2_PosA   0.0742722   0.0743194\n",
       "121      RoofMatl_Membran   0.0742722   0.0743194\n",
       "173         Heating_Floor   0.0742722   0.0743194\n",
       "151     Exterior2nd_Other   0.0742722   0.0743194\n",
       "122        RoofMatl_Metal   0.0742722   0.0743194\n",
       "98        Condition2_RRAn   0.0742722   0.0743194\n",
       "56          LandSlope_Mod   0.0632882   0.0605509\n",
       "34            MSZoning_FV   0.0615777   0.0589144\n",
       "193       Functional_Min2   0.0578844   0.0566117\n",
       "81    Neighborhood_Timber   0.0577496   0.0563215\n",
       "47        LandContour_Lvl   0.0555836  0.00568014\n",
       "69   Neighborhood_Mitchel   0.0497431    0.048138\n",
       "51      LotConfig_CulDSac   0.0445701   0.0417564\n",
       "0              MSSubClass   0.0364928      1.1484\n",
       "16              3SsnPorch   0.0329689     8.31648\n",
       "84       Condition1_Feedr   0.0318812   0.0301531\n",
       "68   Neighborhood_MeadowV   0.0286007   0.0283059\n",
       "100         BldgType_1Fam   0.0280944   0.0046245\n",
       "154    Exterior2nd_Stucco   0.0246261   0.0242204\n",
       "141   Exterior1st_WdShing   0.0246261   0.0242204\n",
       "101       BldgType_2fmCon   0.0106756   0.0104631\n",
       "133   Exterior1st_HdBoard   0.0105314  0.00894226\n",
       "77    Neighborhood_Sawyer   0.0031356  0.00298075\n",
       "78   Neighborhood_SawyerW  0.00181979  0.00174864\n",
       "194        Functional_Mod  0.00148246  0.00146924\n",
       "186        KitchenQual_Ex  0.00112471  0.00104911\n",
       "\n",
       "[209 rows x 3 columns]"
      ]
     },
     "execution_count": 59,
     "metadata": {},
     "output_type": "execute_result"
    }
   ],
   "source": [
    "from sklearn.feature_selection import SelectKBest, chi2, f_classif\n",
    "\n",
    "skb_f = SelectKBest(f_classif, k=50)\n",
    "skb_chi2 = SelectKBest(chi2, k=50)\n",
    "\n",
    "# Train the selector on the data.\n",
    "skb_f.fit(X, y)\n",
    "skb_chi2.fit(X, y)\n",
    "\n",
    "# Examine the results.\n",
    "kbest = pd.DataFrame([X.columns, list(skb_f.scores_), list(skb_chi2.scores_)], \n",
    "                     index=['feature','f_classif','chi2 score']).T.sort_values('f_classif', ascending=False)"
   ]
  },
  {
   "cell_type": "code",
   "execution_count": 84,
   "metadata": {},
   "outputs": [
    {
     "name": "stdout",
     "output_type": "stream",
     "text": [
      "37\n"
     ]
    },
    {
     "data": {
      "text/html": [
       "<div>\n",
       "<style scoped>\n",
       "    .dataframe tbody tr th:only-of-type {\n",
       "        vertical-align: middle;\n",
       "    }\n",
       "\n",
       "    .dataframe tbody tr th {\n",
       "        vertical-align: top;\n",
       "    }\n",
       "\n",
       "    .dataframe thead th {\n",
       "        text-align: right;\n",
       "    }\n",
       "</style>\n",
       "<table border=\"1\" class=\"dataframe\">\n",
       "  <thead>\n",
       "    <tr style=\"text-align: right;\">\n",
       "      <th></th>\n",
       "      <th>feature</th>\n",
       "      <th>f_classif</th>\n",
       "      <th>chi2 score</th>\n",
       "    </tr>\n",
       "  </thead>\n",
       "  <tbody>\n",
       "    <tr>\n",
       "      <th>164</th>\n",
       "      <td>ExterCond_Gd</td>\n",
       "      <td>0.0956066</td>\n",
       "      <td>0.0861583</td>\n",
       "    </tr>\n",
       "    <tr>\n",
       "      <th>64</th>\n",
       "      <td>Neighborhood_Crawfor</td>\n",
       "      <td>0.087876</td>\n",
       "      <td>0.0849176</td>\n",
       "    </tr>\n",
       "    <tr>\n",
       "      <th>182</th>\n",
       "      <td>HeatingQC_Po</td>\n",
       "      <td>0.0742722</td>\n",
       "      <td>0.0743194</td>\n",
       "    </tr>\n",
       "    <tr>\n",
       "      <th>128</th>\n",
       "      <td>Exterior1st_AsphShn</td>\n",
       "      <td>0.0742722</td>\n",
       "      <td>0.0743194</td>\n",
       "    </tr>\n",
       "    <tr>\n",
       "      <th>131</th>\n",
       "      <td>Exterior1st_CBlock</td>\n",
       "      <td>0.0742722</td>\n",
       "      <td>0.0743194</td>\n",
       "    </tr>\n",
       "    <tr>\n",
       "      <th>97</th>\n",
       "      <td>Condition2_RRAe</td>\n",
       "      <td>0.0742722</td>\n",
       "      <td>0.0743194</td>\n",
       "    </tr>\n",
       "    <tr>\n",
       "      <th>146</th>\n",
       "      <td>Exterior2nd_CBlock</td>\n",
       "      <td>0.0742722</td>\n",
       "      <td>0.0743194</td>\n",
       "    </tr>\n",
       "    <tr>\n",
       "      <th>134</th>\n",
       "      <td>Exterior1st_ImStucc</td>\n",
       "      <td>0.0742722</td>\n",
       "      <td>0.0743194</td>\n",
       "    </tr>\n",
       "    <tr>\n",
       "      <th>123</th>\n",
       "      <td>RoofMatl_Roll</td>\n",
       "      <td>0.0742722</td>\n",
       "      <td>0.0743194</td>\n",
       "    </tr>\n",
       "    <tr>\n",
       "      <th>165</th>\n",
       "      <td>ExterCond_Po</td>\n",
       "      <td>0.0742722</td>\n",
       "      <td>0.0743194</td>\n",
       "    </tr>\n",
       "    <tr>\n",
       "      <th>119</th>\n",
       "      <td>RoofMatl_ClyTile</td>\n",
       "      <td>0.0742722</td>\n",
       "      <td>0.0743194</td>\n",
       "    </tr>\n",
       "    <tr>\n",
       "      <th>95</th>\n",
       "      <td>Condition2_PosA</td>\n",
       "      <td>0.0742722</td>\n",
       "      <td>0.0743194</td>\n",
       "    </tr>\n",
       "    <tr>\n",
       "      <th>121</th>\n",
       "      <td>RoofMatl_Membran</td>\n",
       "      <td>0.0742722</td>\n",
       "      <td>0.0743194</td>\n",
       "    </tr>\n",
       "    <tr>\n",
       "      <th>173</th>\n",
       "      <td>Heating_Floor</td>\n",
       "      <td>0.0742722</td>\n",
       "      <td>0.0743194</td>\n",
       "    </tr>\n",
       "    <tr>\n",
       "      <th>151</th>\n",
       "      <td>Exterior2nd_Other</td>\n",
       "      <td>0.0742722</td>\n",
       "      <td>0.0743194</td>\n",
       "    </tr>\n",
       "    <tr>\n",
       "      <th>122</th>\n",
       "      <td>RoofMatl_Metal</td>\n",
       "      <td>0.0742722</td>\n",
       "      <td>0.0743194</td>\n",
       "    </tr>\n",
       "    <tr>\n",
       "      <th>98</th>\n",
       "      <td>Condition2_RRAn</td>\n",
       "      <td>0.0742722</td>\n",
       "      <td>0.0743194</td>\n",
       "    </tr>\n",
       "    <tr>\n",
       "      <th>56</th>\n",
       "      <td>LandSlope_Mod</td>\n",
       "      <td>0.0632882</td>\n",
       "      <td>0.0605509</td>\n",
       "    </tr>\n",
       "    <tr>\n",
       "      <th>34</th>\n",
       "      <td>MSZoning_FV</td>\n",
       "      <td>0.0615777</td>\n",
       "      <td>0.0589144</td>\n",
       "    </tr>\n",
       "    <tr>\n",
       "      <th>193</th>\n",
       "      <td>Functional_Min2</td>\n",
       "      <td>0.0578844</td>\n",
       "      <td>0.0566117</td>\n",
       "    </tr>\n",
       "    <tr>\n",
       "      <th>81</th>\n",
       "      <td>Neighborhood_Timber</td>\n",
       "      <td>0.0577496</td>\n",
       "      <td>0.0563215</td>\n",
       "    </tr>\n",
       "    <tr>\n",
       "      <th>47</th>\n",
       "      <td>LandContour_Lvl</td>\n",
       "      <td>0.0555836</td>\n",
       "      <td>0.00568014</td>\n",
       "    </tr>\n",
       "    <tr>\n",
       "      <th>69</th>\n",
       "      <td>Neighborhood_Mitchel</td>\n",
       "      <td>0.0497431</td>\n",
       "      <td>0.048138</td>\n",
       "    </tr>\n",
       "    <tr>\n",
       "      <th>51</th>\n",
       "      <td>LotConfig_CulDSac</td>\n",
       "      <td>0.0445701</td>\n",
       "      <td>0.0417564</td>\n",
       "    </tr>\n",
       "    <tr>\n",
       "      <th>0</th>\n",
       "      <td>MSSubClass</td>\n",
       "      <td>0.0364928</td>\n",
       "      <td>1.1484</td>\n",
       "    </tr>\n",
       "    <tr>\n",
       "      <th>16</th>\n",
       "      <td>3SsnPorch</td>\n",
       "      <td>0.0329689</td>\n",
       "      <td>8.31648</td>\n",
       "    </tr>\n",
       "    <tr>\n",
       "      <th>84</th>\n",
       "      <td>Condition1_Feedr</td>\n",
       "      <td>0.0318812</td>\n",
       "      <td>0.0301531</td>\n",
       "    </tr>\n",
       "    <tr>\n",
       "      <th>68</th>\n",
       "      <td>Neighborhood_MeadowV</td>\n",
       "      <td>0.0286007</td>\n",
       "      <td>0.0283059</td>\n",
       "    </tr>\n",
       "    <tr>\n",
       "      <th>100</th>\n",
       "      <td>BldgType_1Fam</td>\n",
       "      <td>0.0280944</td>\n",
       "      <td>0.0046245</td>\n",
       "    </tr>\n",
       "    <tr>\n",
       "      <th>154</th>\n",
       "      <td>Exterior2nd_Stucco</td>\n",
       "      <td>0.0246261</td>\n",
       "      <td>0.0242204</td>\n",
       "    </tr>\n",
       "    <tr>\n",
       "      <th>141</th>\n",
       "      <td>Exterior1st_WdShing</td>\n",
       "      <td>0.0246261</td>\n",
       "      <td>0.0242204</td>\n",
       "    </tr>\n",
       "    <tr>\n",
       "      <th>101</th>\n",
       "      <td>BldgType_2fmCon</td>\n",
       "      <td>0.0106756</td>\n",
       "      <td>0.0104631</td>\n",
       "    </tr>\n",
       "    <tr>\n",
       "      <th>133</th>\n",
       "      <td>Exterior1st_HdBoard</td>\n",
       "      <td>0.0105314</td>\n",
       "      <td>0.00894226</td>\n",
       "    </tr>\n",
       "    <tr>\n",
       "      <th>77</th>\n",
       "      <td>Neighborhood_Sawyer</td>\n",
       "      <td>0.0031356</td>\n",
       "      <td>0.00298075</td>\n",
       "    </tr>\n",
       "    <tr>\n",
       "      <th>78</th>\n",
       "      <td>Neighborhood_SawyerW</td>\n",
       "      <td>0.00181979</td>\n",
       "      <td>0.00174864</td>\n",
       "    </tr>\n",
       "    <tr>\n",
       "      <th>194</th>\n",
       "      <td>Functional_Mod</td>\n",
       "      <td>0.00148246</td>\n",
       "      <td>0.00146924</td>\n",
       "    </tr>\n",
       "    <tr>\n",
       "      <th>186</th>\n",
       "      <td>KitchenQual_Ex</td>\n",
       "      <td>0.00112471</td>\n",
       "      <td>0.00104911</td>\n",
       "    </tr>\n",
       "  </tbody>\n",
       "</table>\n",
       "</div>"
      ],
      "text/plain": [
       "                  feature   f_classif  chi2 score\n",
       "164          ExterCond_Gd   0.0956066   0.0861583\n",
       "64   Neighborhood_Crawfor    0.087876   0.0849176\n",
       "182          HeatingQC_Po   0.0742722   0.0743194\n",
       "128   Exterior1st_AsphShn   0.0742722   0.0743194\n",
       "131    Exterior1st_CBlock   0.0742722   0.0743194\n",
       "97        Condition2_RRAe   0.0742722   0.0743194\n",
       "146    Exterior2nd_CBlock   0.0742722   0.0743194\n",
       "134   Exterior1st_ImStucc   0.0742722   0.0743194\n",
       "123         RoofMatl_Roll   0.0742722   0.0743194\n",
       "165          ExterCond_Po   0.0742722   0.0743194\n",
       "119      RoofMatl_ClyTile   0.0742722   0.0743194\n",
       "95        Condition2_PosA   0.0742722   0.0743194\n",
       "121      RoofMatl_Membran   0.0742722   0.0743194\n",
       "173         Heating_Floor   0.0742722   0.0743194\n",
       "151     Exterior2nd_Other   0.0742722   0.0743194\n",
       "122        RoofMatl_Metal   0.0742722   0.0743194\n",
       "98        Condition2_RRAn   0.0742722   0.0743194\n",
       "56          LandSlope_Mod   0.0632882   0.0605509\n",
       "34            MSZoning_FV   0.0615777   0.0589144\n",
       "193       Functional_Min2   0.0578844   0.0566117\n",
       "81    Neighborhood_Timber   0.0577496   0.0563215\n",
       "47        LandContour_Lvl   0.0555836  0.00568014\n",
       "69   Neighborhood_Mitchel   0.0497431    0.048138\n",
       "51      LotConfig_CulDSac   0.0445701   0.0417564\n",
       "0              MSSubClass   0.0364928      1.1484\n",
       "16              3SsnPorch   0.0329689     8.31648\n",
       "84       Condition1_Feedr   0.0318812   0.0301531\n",
       "68   Neighborhood_MeadowV   0.0286007   0.0283059\n",
       "100         BldgType_1Fam   0.0280944   0.0046245\n",
       "154    Exterior2nd_Stucco   0.0246261   0.0242204\n",
       "141   Exterior1st_WdShing   0.0246261   0.0242204\n",
       "101       BldgType_2fmCon   0.0106756   0.0104631\n",
       "133   Exterior1st_HdBoard   0.0105314  0.00894226\n",
       "77    Neighborhood_Sawyer   0.0031356  0.00298075\n",
       "78   Neighborhood_SawyerW  0.00181979  0.00174864\n",
       "194        Functional_Mod  0.00148246  0.00146924\n",
       "186        KitchenQual_Ex  0.00112471  0.00104911"
      ]
     },
     "execution_count": 84,
     "metadata": {},
     "output_type": "execute_result"
    }
   ],
   "source": [
    "print len(kbest[kbest['f_classif'] < 0.1])\n",
    "kbest[kbest['f_classif'] < 0.1]"
   ]
  },
  {
   "cell_type": "markdown",
   "metadata": {},
   "source": [
    "<center> Q3 - FEATURE SELECTION USING RECURSIVE FEATURE SELECTION <center>"
   ]
  },
  {
   "cell_type": "code",
   "execution_count": 61,
   "metadata": {},
   "outputs": [
    {
     "name": "stdout",
     "output_type": "stream",
     "text": [
      "[ True False  True  True  True  True  True  True  True  True  True  True\n",
      "  True  True  True  True  True  True  True  True  True  True  True  True\n",
      "  True  True  True  True  True  True  True  True  True  True  True  True\n",
      "  True  True  True  True  True  True  True  True  True  True  True  True\n",
      "  True  True  True  True  True  True  True  True  True  True  True  True\n",
      "  True  True  True  True  True  True  True  True  True  True  True  True\n",
      "  True  True  True  True  True  True  True  True  True  True  True  True\n",
      "  True  True  True  True  True  True  True  True  True  True  True  True\n",
      "  True False  True  True  True  True  True  True  True  True  True  True\n",
      "  True  True  True  True  True  True  True  True  True  True  True  True\n",
      "  True  True  True  True  True  True  True  True  True  True  True  True\n",
      "  True  True  True  True  True  True  True  True  True  True  True  True\n",
      "  True  True  True  True  True  True  True  True  True  True  True  True\n",
      "  True  True  True  True  True  True  True  True  True  True  True  True\n",
      "  True  True  True  True  True  True  True  True  True  True  True  True\n",
      "  True  True  True  True  True  True  True  True  True  True  True  True\n",
      "  True  True  True  True  True  True  True  True  True  True  True  True\n",
      "  True  True  True  True  True]\n",
      "[1 2 1 1 1 1 1 1 1 1 1 1 1 1 1 1 1 1 1 1 1 1 1 1 1 1 1 1 1 1 1 1 1 1 1 1 1\n",
      " 1 1 1 1 1 1 1 1 1 1 1 1 1 1 1 1 1 1 1 1 1 1 1 1 1 1 1 1 1 1 1 1 1 1 1 1 1\n",
      " 1 1 1 1 1 1 1 1 1 1 1 1 1 1 1 1 1 1 1 1 1 1 1 2 1 1 1 1 1 1 1 1 1 1 1 1 1\n",
      " 1 1 1 1 1 1 1 1 1 1 1 1 1 1 1 1 1 1 1 1 1 1 1 1 1 1 1 1 1 1 1 1 1 1 1 1 1\n",
      " 1 1 1 1 1 1 1 1 1 1 1 1 1 1 1 1 1 1 1 1 1 1 1 1 1 1 1 1 1 1 1 1 1 1 1 1 1\n",
      " 1 1 1 1 1 1 1 1 1 1 1 1 1 1 1 1 1 1 1 1 1 1 1 1]\n"
     ]
    }
   ],
   "source": [
    "from sklearn.feature_selection import RFECV\n",
    "from sklearn.linear_model import LogisticRegression\n",
    "\n",
    "lr = LogisticRegression()\n",
    "selector = RFECV(lr, step=2, cv=10)\n",
    "selector = selector.fit(X, y)\n",
    "\n",
    "print selector.support_\n",
    "print selector.ranking_"
   ]
  },
  {
   "cell_type": "code",
   "execution_count": 68,
   "metadata": {},
   "outputs": [
    {
     "data": {
      "text/html": [
       "<div>\n",
       "<style scoped>\n",
       "    .dataframe tbody tr th:only-of-type {\n",
       "        vertical-align: middle;\n",
       "    }\n",
       "\n",
       "    .dataframe tbody tr th {\n",
       "        vertical-align: top;\n",
       "    }\n",
       "\n",
       "    .dataframe thead th {\n",
       "        text-align: right;\n",
       "    }\n",
       "</style>\n",
       "<table border=\"1\" class=\"dataframe\">\n",
       "  <thead>\n",
       "    <tr style=\"text-align: right;\">\n",
       "      <th></th>\n",
       "      <th>col_name</th>\n",
       "      <th>support</th>\n",
       "      <th>ranking</th>\n",
       "    </tr>\n",
       "  </thead>\n",
       "  <tbody>\n",
       "    <tr>\n",
       "      <th>1</th>\n",
       "      <td>LotArea</td>\n",
       "      <td>False</td>\n",
       "      <td>2</td>\n",
       "    </tr>\n",
       "    <tr>\n",
       "      <th>97</th>\n",
       "      <td>Condition2_RRAe</td>\n",
       "      <td>False</td>\n",
       "      <td>2</td>\n",
       "    </tr>\n",
       "  </tbody>\n",
       "</table>\n",
       "</div>"
      ],
      "text/plain": [
       "           col_name support ranking\n",
       "1           LotArea   False       2\n",
       "97  Condition2_RRAe   False       2"
      ]
     },
     "execution_count": 68,
     "metadata": {},
     "output_type": "execute_result"
    }
   ],
   "source": [
    "RFS_df = pd.DataFrame([X.columns, selector.support_, selector.ranking_], index=['col_name', 'support', 'ranking']).T\n",
    "RFS_df[RFS_df['ranking'] > 1]"
   ]
  },
  {
   "cell_type": "markdown",
   "metadata": {},
   "source": [
    "<center> Q3 - FEATURE SELECTION USING LASSO PENALTY <center>"
   ]
  },
  {
   "cell_type": "code",
   "execution_count": 76,
   "metadata": {},
   "outputs": [
    {
     "data": {
      "text/plain": [
       "LogisticRegressionCV(Cs=10, class_weight=None, cv=3, dual=False,\n",
       "           fit_intercept=True, intercept_scaling=1.0, max_iter=100,\n",
       "           multi_class='ovr', n_jobs=1, penalty='l1', random_state=None,\n",
       "           refit=True, scoring=None, solver='liblinear', tol=0.0001,\n",
       "           verbose=0)"
      ]
     },
     "execution_count": 76,
     "metadata": {},
     "output_type": "execute_result"
    }
   ],
   "source": [
    "from sklearn.preprocessing import StandardScaler\n",
    "\n",
    "ss = StandardScaler()\n",
    "Xs = ss.fit_transform(X)\n",
    "\n",
    "from sklearn.linear_model import LogisticRegressionCV\n",
    "\n",
    "lrcv = LogisticRegressionCV(penalty='l1', Cs=10, cv=3, solver='liblinear')\n",
    "lrcv.fit(Xs, y)"
   ]
  },
  {
   "cell_type": "code",
   "execution_count": 144,
   "metadata": {},
   "outputs": [
    {
     "name": "stdout",
     "output_type": "stream",
     "text": [
      "209  columns in total\n",
      "101  columns which had their  coefficient zeroed out\n",
      "============================================================\n",
      "                 col_name  coef\n",
      "0              MSSubClass   0.0\n",
      "4              BsmtFinSF1   0.0\n",
      "6               BsmtUnfSF   0.0\n",
      "8                1stFlrSF   0.0\n",
      "9                2ndFlrSF   0.0\n",
      "11              GrLivArea   0.0\n",
      "13             WoodDeckSF   0.0\n",
      "15          EnclosedPorch   0.0\n",
      "20                 MoSold   0.0\n",
      "22            OverallQual   0.0\n",
      "24           BsmtFullBath   0.0\n",
      "28           BedroomAbvGr   0.0\n",
      "29           KitchenAbvGr   0.0\n",
      "32             GarageCars   0.0\n",
      "36            MSZoning_RL   0.0\n",
      "37            MSZoning_RM   0.0\n",
      "40           LotShape_IR1   0.0\n",
      "41           LotShape_IR2   0.0\n",
      "42           LotShape_IR3   0.0\n",
      "43           LotShape_Reg   0.0\n",
      "46        LandContour_Low   0.0\n",
      "47        LandContour_Lvl   0.0\n",
      "53          LotConfig_FR3   0.0\n",
      "54       LotConfig_Inside   0.0\n",
      "55          LandSlope_Gtl   0.0\n",
      "56          LandSlope_Mod   0.0\n",
      "61   Neighborhood_BrkSide   0.0\n",
      "64   Neighborhood_Crawfor   0.0\n",
      "67    Neighborhood_IDOTRR   0.0\n",
      "68   Neighborhood_MeadowV   0.0\n",
      "..                    ...   ...\n",
      "147   Exterior2nd_CmentBd   0.0\n",
      "148   Exterior2nd_HdBoard   0.0\n",
      "150   Exterior2nd_MetalSd   0.0\n",
      "151     Exterior2nd_Other   0.0\n",
      "153     Exterior2nd_Stone   0.0\n",
      "154    Exterior2nd_Stucco   0.0\n",
      "155   Exterior2nd_VinylSd   0.0\n",
      "159          ExterQual_Fa   0.0\n",
      "160          ExterQual_Gd   0.0\n",
      "161          ExterQual_TA   0.0\n",
      "162          ExterCond_Ex   0.0\n",
      "164          ExterCond_Gd   0.0\n",
      "165          ExterCond_Po   0.0\n",
      "166          ExterCond_TA   0.0\n",
      "168     Foundation_CBlock   0.0\n",
      "169      Foundation_PConc   0.0\n",
      "172       Foundation_Wood   0.0\n",
      "174          Heating_GasA   0.0\n",
      "178          Heating_Wall   0.0\n",
      "179          HeatingQC_Ex   0.0\n",
      "182          HeatingQC_Po   0.0\n",
      "183          HeatingQC_TA   0.0\n",
      "184          CentralAir_N   0.0\n",
      "185          CentralAir_Y   0.0\n",
      "188        KitchenQual_Gd   0.0\n",
      "192       Functional_Min1   0.0\n",
      "196        Functional_Typ   0.0\n",
      "199          PavedDrive_Y   0.0\n",
      "202          SaleType_Con   0.0\n",
      "208           SaleType_WD   0.0\n",
      "\n",
      "[101 rows x 2 columns]\n"
     ]
    }
   ],
   "source": [
    "lrcv_coef = pd.DataFrame(lrcv.coef_)\n",
    "lrcv_coef = lrcv_coef.T\n",
    "lrcv_coef['col_name'] = X.columns\n",
    "lrcv_coef.rename({0:'coef'}, axis=1, inplace=True)\n",
    "lrcv_coef = lrcv_coef[['col_name', 'coef']]\n",
    "print len(lrcv_coef),  ' columns in total'\n",
    "print len(lrcv_coef[lrcv_coef['coef'] == 0]), ' columns which had their  coefficient zeroed out'\n",
    "print \"=\"*60\n",
    "print lrcv_coef[lrcv_coef['coef'] == 0]"
   ]
  },
  {
   "cell_type": "markdown",
   "metadata": {},
   "source": [
    "<h2><center>QUICK REFERENCE</center></h2>"
   ]
  },
  {
   "cell_type": "markdown",
   "metadata": {},
   "source": [
    "#### Standardizing the predictors when using a regulator"
   ]
  },
  {
   "cell_type": "code",
   "execution_count": 60,
   "metadata": {},
   "outputs": [],
   "source": [
    "# Initialize the StandardScaler object.\n",
    "from sklearn.preprocessing import StandardScaler\n",
    "\n",
    "ss = StandardScaler()\n",
    "\n",
    "# Use the \"fit_transform\" function to standardize the X design matrix.\n",
    "Xs = ss.fit_transform(X)"
   ]
  }
 ],
 "metadata": {
  "kernelspec": {
   "display_name": "Python 2",
   "language": "python",
   "name": "python2"
  },
  "language_info": {
   "codemirror_mode": {
    "name": "ipython",
    "version": 2
   },
   "file_extension": ".py",
   "mimetype": "text/x-python",
   "name": "python",
   "nbconvert_exporter": "python",
   "pygments_lexer": "ipython2",
   "version": "2.7.14"
  }
 },
 "nbformat": 4,
 "nbformat_minor": 2
}
